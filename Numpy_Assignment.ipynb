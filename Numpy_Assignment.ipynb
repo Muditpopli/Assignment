{
  "nbformat": 4,
  "nbformat_minor": 0,
  "metadata": {
    "colab": {
      "provenance": []
    },
    "kernelspec": {
      "name": "python3",
      "display_name": "Python 3"
    },
    "language_info": {
      "name": "python"
    }
  },
  "cells": [
    {
      "cell_type": "markdown",
      "source": [
        "Answer to Q.No 1:\n",
        "\n",
        "Numpy is a library for numerical and scientific computations in python. It offers fast and efficient operations on data sets, especially for tasks involving arrays and matrices making it an ideal choice for data analyis."
      ],
      "metadata": {
        "id": "Gs-XSwbfun4V"
      }
    },
    {
      "cell_type": "markdown",
      "source": [
        "Answer to Q.No 2:\n",
        "\n",
        "np.mean() Computes arithmetic mean along an axis.\n",
        "ap.average() It allows weighted averages, where each value can have different importance.\n",
        "\n",
        "Example:\n"
      ],
      "metadata": {
        "id": "YdYnuw_CvCNo"
      }
    },
    {
      "cell_type": "code",
      "source": [
        "import numpy as np\n",
        "data = np.array([1, 2, 3, 4])\n",
        "print(np.mean(data))\n",
        "print(np.average(data))\n"
      ],
      "metadata": {
        "colab": {
          "base_uri": "https://localhost:8080/"
        },
        "id": "79iiTfv6vUzQ",
        "outputId": "80790fb5-9e43-4d56-d931-e8cd1a27168b"
      },
      "execution_count": null,
      "outputs": [
        {
          "output_type": "stream",
          "name": "stdout",
          "text": [
            "2.5\n",
            "2.5\n"
          ]
        }
      ]
    },
    {
      "cell_type": "markdown",
      "source": [
        "Answer to Q.No 3:\n",
        "\n",
        "1D Array: Using [::-1] would be used to reverse numpy array.\n",
        "2D Array : Using np.flip() or specify axes with np.flipud() (up-down) and np.fliplr(left-right).\n",
        "\n",
        "Example:\n"
      ],
      "metadata": {
        "id": "dlopP3s2wIfG"
      }
    },
    {
      "cell_type": "code",
      "source": [
        "arr = np.array([[1, 2], [3, 4]])\n",
        "print(np.flip(arr, axis=0))\n"
      ],
      "metadata": {
        "colab": {
          "base_uri": "https://localhost:8080/"
        },
        "id": "-z1i278CwjKr",
        "outputId": "bd8999b2-6b44-4987-93cb-693f813f4325"
      },
      "execution_count": null,
      "outputs": [
        {
          "output_type": "stream",
          "name": "stdout",
          "text": [
            "[[3 4]\n",
            " [1 2]]\n"
          ]
        }
      ]
    },
    {
      "cell_type": "markdown",
      "source": [
        "Answer to Q.No 4:\n",
        "\n",
        "Use .dtype to find the data type in numpy array. Data types help to manage memory and optimize performance."
      ],
      "metadata": {
        "id": "xGTdKttmwpeH"
      }
    },
    {
      "cell_type": "markdown",
      "source": [
        "Answer to Q.No 5:\n",
        "\n",
        "ndarray is the primary data structure in numpy, optimized for numerical operations, supporting multidimensional arrays and providing faster computations than python lists."
      ],
      "metadata": {
        "id": "DgY3HzXgw1m1"
      }
    },
    {
      "cell_type": "markdown",
      "source": [
        "Answer to Q.No 6:\n",
        "\n",
        "Numpy array are faster than python lists for numerical operations because they use contiguous memory blocks and leverage C-based operations.\n"
      ],
      "metadata": {
        "id": "9DxHH8fqxGkw"
      }
    },
    {
      "cell_type": "markdown",
      "source": [
        "Answer to Q.No.7:\n",
        "\n",
        "vstack(): vertically stacks arrays.\n",
        "hstack(): horizontally stacks arrays.\n",
        "\n",
        "Example:\n"
      ],
      "metadata": {
        "id": "JIoBLJXfxa46"
      }
    },
    {
      "cell_type": "code",
      "source": [
        "a = np.array([1, 2])\n",
        "b = np.array([3, 4])\n",
        "print(np.vstack((a, b)))\n"
      ],
      "metadata": {
        "colab": {
          "base_uri": "https://localhost:8080/"
        },
        "id": "8wXS18lsxpFV",
        "outputId": "637e4364-ed79-4872-b123-f37a479d2908"
      },
      "execution_count": null,
      "outputs": [
        {
          "output_type": "stream",
          "name": "stdout",
          "text": [
            "[[1 2]\n",
            " [3 4]]\n"
          ]
        }
      ]
    },
    {
      "cell_type": "markdown",
      "source": [
        "Answer to Q.No 8:\n",
        "\n",
        "fliplr() : Flip arrays left to right.\n",
        "flipud() : Flip arrays up to down."
      ],
      "metadata": {
        "id": "zIARFz72xuS9"
      }
    },
    {
      "cell_type": "markdown",
      "source": [
        "Answer to Q. No 9:\n",
        "\n",
        "Splits an array into sub-arrays. Handles uneven splits by creating sub-arrays of different sizes."
      ],
      "metadata": {
        "id": "K8BNyHepx56f"
      }
    },
    {
      "cell_type": "markdown",
      "source": [
        "Answer to Q.No. 10:\n",
        "\n",
        "Vectorization and broadcasting allow operations on arrays without explicit loops, making computation faster."
      ],
      "metadata": {
        "id": "tw6D0SsayI-u"
      }
    },
    {
      "cell_type": "markdown",
      "source": [
        "Practical Questions:\n",
        "\n",
        "Answer to Q.No. 1:"
      ],
      "metadata": {
        "id": "73_SAYg4yeqR"
      }
    },
    {
      "cell_type": "code",
      "source": [
        "arr = np.random.randint(1, 100, (3, 3))\n",
        "print(arr.T)"
      ],
      "metadata": {
        "colab": {
          "base_uri": "https://localhost:8080/"
        },
        "id": "OwZgALZFylzg",
        "outputId": "1a59581d-d4d2-47be-ccda-2979ec1576f8"
      },
      "execution_count": null,
      "outputs": [
        {
          "output_type": "stream",
          "name": "stdout",
          "text": [
            "[[83  1 88]\n",
            " [60 26 86]\n",
            " [ 9 48 82]]\n"
          ]
        }
      ]
    },
    {
      "cell_type": "markdown",
      "source": [
        "Answer to Q.No 2:\n"
      ],
      "metadata": {
        "id": "C73d4V5IyrNG"
      }
    },
    {
      "cell_type": "code",
      "source": [
        "import numpy as np\n",
        "arr = np.arange(10)\n",
        "arr_2x5 = arr.reshape(2, 5)\n",
        "arr_5x2 = arr.reshape(5, 2)\n",
        "print(arr_2x5)\n",
        "print(arr_5x2)"
      ],
      "metadata": {
        "colab": {
          "base_uri": "https://localhost:8080/"
        },
        "id": "qmT-FFaFyvHv",
        "outputId": "d19cc5cc-c0bf-4f69-aea0-05b07a81667e"
      },
      "execution_count": null,
      "outputs": [
        {
          "output_type": "stream",
          "name": "stdout",
          "text": [
            "[[0 1 2 3 4]\n",
            " [5 6 7 8 9]]\n",
            "[[0 1]\n",
            " [2 3]\n",
            " [4 5]\n",
            " [6 7]\n",
            " [8 9]]\n"
          ]
        }
      ]
    },
    {
      "cell_type": "markdown",
      "source": [
        "Answer to Q.No: 3\n"
      ],
      "metadata": {
        "id": "paTbmAoczjIp"
      }
    },
    {
      "cell_type": "code",
      "source": [
        "arr_4x4 = np.random.rand(4, 4)\n",
        "arr_with_border = np.pad(arr_4x4, pad_width=1, mode='constant', constant_values=0)\n",
        "print(\"Original 4x4 Array:\\n\", arr_4x4)\n",
        "print(\"Array with a Border of Zeros (6x6):\\n\", arr_with_border)\n"
      ],
      "metadata": {
        "colab": {
          "base_uri": "https://localhost:8080/"
        },
        "id": "EnO5CSXAzunJ",
        "outputId": "03b3466b-bac9-4b37-dd64-b463a80ae0ff"
      },
      "execution_count": null,
      "outputs": [
        {
          "output_type": "stream",
          "name": "stdout",
          "text": [
            "Original 4x4 Array:\n",
            " [[0.28885043 0.34557731 0.74004581 0.59058913]\n",
            " [0.7679681  0.02969017 0.80643338 0.04853989]\n",
            " [0.22656799 0.62223246 0.38317704 0.34298684]\n",
            " [0.14269327 0.74586544 0.9083428  0.81464619]]\n",
            "Array with a Border of Zeros (6x6):\n",
            " [[0.         0.         0.         0.         0.         0.        ]\n",
            " [0.         0.28885043 0.34557731 0.74004581 0.59058913 0.        ]\n",
            " [0.         0.7679681  0.02969017 0.80643338 0.04853989 0.        ]\n",
            " [0.         0.22656799 0.62223246 0.38317704 0.34298684 0.        ]\n",
            " [0.         0.14269327 0.74586544 0.9083428  0.81464619 0.        ]\n",
            " [0.         0.         0.         0.         0.         0.        ]]\n"
          ]
        }
      ]
    },
    {
      "cell_type": "markdown",
      "source": [
        "Answer to Q.No. 4:\n"
      ],
      "metadata": {
        "id": "hcEigGC-0XmI"
      }
    },
    {
      "cell_type": "code",
      "source": [
        "arr_step_5 = np.arange(10, 61, 5)\n",
        "print(\"Array from 10 to 60 with a step of 5:\\n\", arr_step_5)\n"
      ],
      "metadata": {
        "colab": {
          "base_uri": "https://localhost:8080/"
        },
        "id": "QJ8Umg9H0aWZ",
        "outputId": "71c00e48-ba89-4fd1-91fb-c50ad9f2afd7"
      },
      "execution_count": null,
      "outputs": [
        {
          "output_type": "stream",
          "name": "stdout",
          "text": [
            "Array from 10 to 60 with a step of 5:\n",
            " [10 15 20 25 30 35 40 45 50 55 60]\n"
          ]
        }
      ]
    },
    {
      "cell_type": "markdown",
      "source": [
        "Answer to Q.No 5:\n"
      ],
      "metadata": {
        "id": "Dz5H5JPh0y6i"
      }
    },
    {
      "cell_type": "code",
      "source": [
        "arr_strings = np.array(['python', 'numpy', 'pandas'])\n",
        "upper_case = np.char.upper(arr_strings)\n",
        "lower_case = np.char.lower(arr_strings)\n",
        "title_case = np.char.title(arr_strings)\n",
        "print(\"Uppercase:\\n\", upper_case)\n",
        "print(\"Lowercase:\\n\", lower_case)\n",
        "print(\"Title Case:\\n\", title_case)\n"
      ],
      "metadata": {
        "colab": {
          "base_uri": "https://localhost:8080/"
        },
        "id": "HaWApgLj002t",
        "outputId": "dd432096-9166-4580-aa25-a0fdf5893478"
      },
      "execution_count": null,
      "outputs": [
        {
          "output_type": "stream",
          "name": "stdout",
          "text": [
            "Uppercase:\n",
            " ['PYTHON' 'NUMPY' 'PANDAS']\n",
            "Lowercase:\n",
            " ['python' 'numpy' 'pandas']\n",
            "Title Case:\n",
            " ['Python' 'Numpy' 'Pandas']\n"
          ]
        }
      ]
    },
    {
      "cell_type": "markdown",
      "source": [
        "Answer to Q.No 6:\n"
      ],
      "metadata": {
        "id": "7FLmtlw61YMS"
      }
    },
    {
      "cell_type": "code",
      "source": [
        "arr_words = np.array(['python', 'numpy'])\n",
        "spaced_arr = np.array([' '.join(list(word)) for word in arr_words])\n",
        "print(\"Array with spaces between characters:\\n\", spaced_arr)\n"
      ],
      "metadata": {
        "colab": {
          "base_uri": "https://localhost:8080/"
        },
        "id": "ykuussbL1aTY",
        "outputId": "2cd30601-b9cd-4d97-b7cc-3b1d2b9ebef6"
      },
      "execution_count": null,
      "outputs": [
        {
          "output_type": "stream",
          "name": "stdout",
          "text": [
            "Array with spaces between characters:\n",
            " ['p y t h o n' 'n u m p y']\n"
          ]
        }
      ]
    },
    {
      "cell_type": "markdown",
      "source": [
        "Answer to Q.No 7:\n"
      ],
      "metadata": {
        "id": "ObtiLZ5l1hGG"
      }
    },
    {
      "cell_type": "code",
      "source": [
        "a = np.array([[1, 2], [3, 4]])\n",
        "b = np.array([[5, 6], [7, 8]])\n",
        "print(\"Element-wise Addition:\\n\", a + b)\n",
        "print(\"Element-wise Subtraction:\\n\", a - b)\n",
        "print(\"Element-wise Multiplication:\\n\", a * b)\n",
        "print(\"Element-wise Division:\\n\", a / b)\n"
      ],
      "metadata": {
        "colab": {
          "base_uri": "https://localhost:8080/"
        },
        "id": "9xtI7ZSy1jSM",
        "outputId": "bacc3dc7-43f1-4abc-a3fc-e3384110137d"
      },
      "execution_count": null,
      "outputs": [
        {
          "output_type": "stream",
          "name": "stdout",
          "text": [
            "Element-wise Addition:\n",
            " [[ 6  8]\n",
            " [10 12]]\n",
            "Element-wise Subtraction:\n",
            " [[-4 -4]\n",
            " [-4 -4]]\n",
            "Element-wise Multiplication:\n",
            " [[ 5 12]\n",
            " [21 32]]\n",
            "Element-wise Division:\n",
            " [[0.2        0.33333333]\n",
            " [0.42857143 0.5       ]]\n"
          ]
        }
      ]
    },
    {
      "cell_type": "markdown",
      "source": [
        "Answer to Q.No 8:\n"
      ],
      "metadata": {
        "id": "zWA59jE11rAG"
      }
    },
    {
      "cell_type": "code",
      "source": [
        "identity_matrix = np.eye(5)\n",
        "diagonal_elements = np.diag(identity_matrix)\n",
        "print(\"5x5 Identity Matrix:\\n\", identity_matrix)\n",
        "print(\"Diagonal Elements:\\n\", diagonal_elements)\n"
      ],
      "metadata": {
        "colab": {
          "base_uri": "https://localhost:8080/"
        },
        "id": "6FBJpGMx2LlP",
        "outputId": "9342d8ee-7782-494c-e455-6233c76ba107"
      },
      "execution_count": null,
      "outputs": [
        {
          "output_type": "stream",
          "name": "stdout",
          "text": [
            "5x5 Identity Matrix:\n",
            " [[1. 0. 0. 0. 0.]\n",
            " [0. 1. 0. 0. 0.]\n",
            " [0. 0. 1. 0. 0.]\n",
            " [0. 0. 0. 1. 0.]\n",
            " [0. 0. 0. 0. 1.]]\n",
            "Diagonal Elements:\n",
            " [1. 1. 1. 1. 1.]\n"
          ]
        }
      ]
    },
    {
      "cell_type": "markdown",
      "source": [
        "Answer to Q.No 9:\n"
      ],
      "metadata": {
        "id": "uU6IogXz2gMi"
      }
    },
    {
      "cell_type": "code",
      "source": [
        "arr_random = np.random.randint(0, 1000, 100)\n",
        "primes = [num for num in arr_random if num > 1 and all(num % i != 0 for i in range(2, int(num**0.5) + 1))]\n",
        "print(\"Array of Random Integers:\\n\", arr_random)\n",
        "print(\"Prime Numbers in Array:\\n\", primes)\n"
      ],
      "metadata": {
        "colab": {
          "base_uri": "https://localhost:8080/"
        },
        "id": "PiC5QYQC2iGd",
        "outputId": "64e57a66-4e33-48c6-fff3-b8a2c09b4fd1"
      },
      "execution_count": null,
      "outputs": [
        {
          "output_type": "stream",
          "name": "stdout",
          "text": [
            "Array of Random Integers:\n",
            " [229 678 154 873 975 311  23 828 529 412 848 775 698 307 174 882 421 446\n",
            " 909 684 344 362 774 780 867 993  89 568 611 331 645 492 982 327 357 930\n",
            " 444 248 762 432 980 951 990  63 204 165 982 291 253 631 896 956 881 902\n",
            " 877 465 415 412 451  74 888 204 740 652 645 384 690 520  90 674 297 602\n",
            " 840 571 826 280 870 626 960 296 539 594 264 840 791 989 969  63 419  89\n",
            " 296 629 704 160 843 466  42 315 927  65]\n",
            "Prime Numbers in Array:\n",
            " [229, 311, 23, 307, 421, 89, 331, 631, 881, 877, 571, 419, 89]\n"
          ]
        }
      ]
    },
    {
      "cell_type": "markdown",
      "source": [
        "Answer to Q.No 10:\n"
      ],
      "metadata": {
        "id": "nL_qT3J42rKK"
      }
    },
    {
      "cell_type": "code",
      "source": [
        "daily_temps = np.random.randint(15, 35, 30)  # 30 days representing daily temperatures\n",
        "# Change the reshape to have a number of rows that evenly divides 30\n",
        "# For example, using 5 rows and 6 columns (5 * 6 = 30)\n",
        "weekly_avg = daily_temps.reshape(5, -1).mean(axis=1)\n",
        "print(\"Daily Temperatures:\\n\", daily_temps)\n",
        "print(\"Weekly Averages:\\n\", weekly_avg)\n"
      ],
      "metadata": {
        "colab": {
          "base_uri": "https://localhost:8080/"
        },
        "id": "UqoU7hF_2tbk",
        "outputId": "b196d7d4-ecff-440e-e99c-aa0da300886c"
      },
      "execution_count": null,
      "outputs": [
        {
          "output_type": "stream",
          "name": "stdout",
          "text": [
            "Daily Temperatures:\n",
            " [26 25 16 29 19 24 22 16 18 26 27 31 22 27 22 30 18 15 31 20 17 20 26 30\n",
            " 27 21 27 32 29 23]\n",
            "Weekly Averages:\n",
            " [23.16666667 23.33333333 22.33333333 24.         26.5       ]\n"
          ]
        }
      ]
    }
  ]
}