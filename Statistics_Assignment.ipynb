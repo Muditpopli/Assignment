{
  "nbformat": 4,
  "nbformat_minor": 0,
  "metadata": {
    "colab": {
      "provenance": []
    },
    "kernelspec": {
      "name": "python3",
      "display_name": "Python 3"
    },
    "language_info": {
      "name": "python"
    }
  },
  "cells": [
    {
      "cell_type": "markdown",
      "source": [
        "Answer to Q.No 1:\n",
        "\n",
        "- **Qualitative Data (Categorical):**\n",
        "  - **Nominal:** No order (e.g., gender, colors).\n",
        "  - **Ordinal:** Ordered (e.g., rankings like small, medium, large).\n",
        "- **Quantitative Data (Numerical):**\n",
        "  - **Interval:** No true zero (e.g., temperature in Celsius).\n",
        "  - **Ratio:** True zero (e.g., weight, height, income).\n"
      ],
      "metadata": {
        "id": "i2qpcvpaZYwZ"
      }
    },
    {
      "cell_type": "markdown",
      "source": [
        "Answer to Q. No 2:\n",
        "\n",
        "- **Mean:** Average. Use for numerical data without outliers.\n",
        "- **Median:** Middle value. Use for skewed data.\n",
        "- **Mode:** Most frequent. Use for categorical data.\n",
        "\n",
        "**Example:**\n",
        "- Salaries with outliers: Use **median**.\n"
      ],
      "metadata": {
        "id": "xGmWE2Q1ZlOS"
      }
    },
    {
      "cell_type": "markdown",
      "source": [
        "Answer to Q.No 3:\n",
        "\n",
        "- **Dispersion:** Measures how spread out data is.\n",
        "- **Variance:** Average squared deviations from the mean.\n",
        "- **Standard Deviation:** Square root of variance (same unit as data).\n",
        "\n",
        "**Example:** High SD means greater variability.\n"
      ],
      "metadata": {
        "id": "8704-I-IZqdE"
      }
    },
    {
      "cell_type": "markdown",
      "source": [
        "Answer to Q.No 4:\n",
        "\n",
        "- **Box Plot:** Visualizes data distribution:\n",
        "  - Median (central line).\n",
        "  - Quartiles (Q1, Q3).\n",
        "  - Outliers (dots beyond whiskers).\n"
      ],
      "metadata": {
        "id": "N3NNNTW9Zukh"
      }
    },
    {
      "cell_type": "markdown",
      "source": [
        "Answer to Q.No 5:\n",
        "\n",
        "- **Random Sampling:** Every individual has an equal chance.\n",
        "- **Role:** Reduces bias, makes inferences about populations.\n"
      ],
      "metadata": {
        "id": "h96hzycpZ2nK"
      }
    },
    {
      "cell_type": "markdown",
      "source": [
        "Answer to Q.No 6:\n",
        "\n",
        "- **Skewness:** Asymmetry in data distribution.\n",
        "  - **Positive Skew:** Long right tail (e.g., income data).\n",
        "  - **Negative Skew:** Long left tail (e.g., test scores).\n",
        "  - **Zero Skew:** Symmetrical.\n",
        "\n",
        "**Impact:** Skewness affects the mean and median relationship.\n",
        "\n",
        "\n"
      ],
      "metadata": {
        "id": "gxFf2RPxZ6Xy"
      }
    },
    {
      "cell_type": "markdown",
      "source": [
        "Answer to Q.No 7:\n",
        "\n",
        "- **IQR = Q3 - Q1.**\n",
        "- **Outliers:** Data beyond Q3 + 1.5×IQR or Q1 - 1.5×IQR.\n"
      ],
      "metadata": {
        "id": "b15V1oyPZ_yC"
      }
    },
    {
      "cell_type": "markdown",
      "source": [
        "Answer to Q.No 8:\n",
        "\n",
        "- **Conditions:**\n",
        "  - Fixed trials.\n",
        "  - Two outcomes (success/failure).\n",
        "  - Constant probability.\n",
        "  - Independent trials.\n",
        "\n",
        "**Example:** Flipping a coin 10 times.\n"
      ],
      "metadata": {
        "id": "OxG2qLazaFrg"
      }
    },
    {
      "cell_type": "markdown",
      "source": [
        "Answer to Q.No 9:\n",
        "\n",
        "- **Normal Distribution:** Bell-shaped, symmetric.\n",
        "- **Empirical Rule:**\n",
        "  - 68% within 1 SD.\n",
        "  - 95% within 2 SD.\n",
        "  - 99.7% within 3 SD.\n",
        "\n",
        "**Example:** Heights of adults.\n"
      ],
      "metadata": {
        "id": "PPzYLkgJaJWQ"
      }
    },
    {
      "cell_type": "markdown",
      "source": [
        "Answer to Q.No 10:\n",
        "\n",
        "- **Poisson Example:** Calls to a call center (avg = 5/hour).\n",
        "- **Formula:** \\( P(X = k) = \\frac{e^{-\\lambda} \\lambda^k}{k!} \\)\n",
        "\n",
        "**Python Code Example:**\n",
        "\n"
      ],
      "metadata": {
        "id": "Mf_9OHJDaP2y"
      }
    },
    {
      "cell_type": "code",
      "source": [
        "from scipy.stats import poisson\n",
        "\n",
        "lambda_value = 5\n",
        "prob = poisson.pmf(3, lambda_value)\n",
        "print(\"P(X=3):\", prob)"
      ],
      "metadata": {
        "colab": {
          "base_uri": "https://localhost:8080/"
        },
        "id": "EUUexXs7ad4K",
        "outputId": "c3196081-3798-4d53-b190-79ac05d7573c"
      },
      "execution_count": 2,
      "outputs": [
        {
          "output_type": "stream",
          "name": "stdout",
          "text": [
            "P(X=3): 0.1403738958142805\n"
          ]
        }
      ]
    },
    {
      "cell_type": "markdown",
      "source": [
        "Answer to Q.No 11:\n",
        "- **Random Variable:** Value determined by chance.\n",
        "  - **Discrete:** Countable outcomes (e.g., dice rolls).\n",
        "  - **Continuous:** Infinite values (e.g., height).\n"
      ],
      "metadata": {
        "id": "LCkmEZTfaW0O"
      }
    },
    {
      "cell_type": "markdown",
      "source": [
        "Answer to Q.No. 12:\n"
      ],
      "metadata": {
        "id": "bkC288Yzbge9"
      }
    },
    {
      "cell_type": "code",
      "source": [
        "import numpy as np\n",
        "\n",
        "x = [2, 4, 6]\n",
        "y = [1, 3, 5]\n",
        "\n",
        "# Covariance\n",
        "cov = np.cov(x, y)[0, 1]\n",
        "# Correlation\n",
        "corr = np.corrcoef(x, y)[0, 1]\n",
        "\n",
        "print(\"Covariance:\", cov)\n",
        "print(\"Correlation:\", corr)\n"
      ],
      "metadata": {
        "colab": {
          "base_uri": "https://localhost:8080/"
        },
        "id": "kvKRz9KkbufY",
        "outputId": "dafe6d05-9bfa-4458-9cae-daa42f2141ea"
      },
      "execution_count": 3,
      "outputs": [
        {
          "output_type": "stream",
          "name": "stdout",
          "text": [
            "Covariance: 4.0\n",
            "Correlation: 1.0\n"
          ]
        }
      ]
    },
    {
      "cell_type": "code",
      "source": [],
      "metadata": {
        "id": "aiArUYu7b0XN"
      },
      "execution_count": null,
      "outputs": []
    }
  ]
}