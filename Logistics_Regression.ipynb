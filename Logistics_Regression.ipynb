{
  "nbformat": 4,
  "nbformat_minor": 0,
  "metadata": {
    "colab": {
      "provenance": []
    },
    "kernelspec": {
      "name": "python3",
      "display_name": "Python 3"
    },
    "language_info": {
      "name": "python"
    }
  },
  "cells": [
    {
      "cell_type": "markdown",
      "source": [
        "Answer to Q.No 1:\n",
        "\n",
        "Logistic Regression is a classification algorithm that predicts probabilities for binary outcomes. Unlike Linear Regression, it uses the Sigmoid function to ensure outputs are between 0 and 1."
      ],
      "metadata": {
        "id": "1usaISYxtKGh"
      }
    },
    {
      "cell_type": "markdown",
      "source": [
        "Answer to Q.No 2:\n",
        "P(Y=1∣X)=\n",
        "1+e\n",
        "−(β\n",
        "0\n",
        "​\n",
        " +β\n",
        "1\n",
        "​\n",
        " X\n",
        "1\n",
        "​\n",
        " +...+β\n",
        "n\n",
        "​\n",
        " X\n",
        "n\n",
        "​\n",
        " )\n",
        "\n",
        "1\n",
        "​\n",
        "\n",
        "This is the Sigmoid function, used to compute probabilities."
      ],
      "metadata": {
        "id": "2E_zCInbtNNn"
      }
    },
    {
      "cell_type": "markdown",
      "source": [
        "Answer to Q.No 3:\n",
        "\n",
        "The Sigmoid function converts any value into a range between 0 and 1, making it useful for probability estimation in classification."
      ],
      "metadata": {
        "id": "qwMmAbxhtSgp"
      }
    },
    {
      "cell_type": "markdown",
      "source": [
        "Answer to Q.No 4:\n",
        "\n",
        "Logistic Regression uses Log Loss (Binary Cross-Entropy):\n",
        "\n",
        "𝐽\n",
        "(\n",
        "𝜃\n",
        ")\n",
        "=\n",
        "−\n",
        "1\n",
        "𝑚\n",
        "∑\n",
        "[\n",
        "𝑦\n",
        "log\n",
        "⁡\n",
        "(\n",
        "ℎ\n",
        "𝜃\n",
        "(\n",
        "𝑥\n",
        ")\n",
        ")\n",
        "+\n",
        "(\n",
        "1\n",
        "−\n",
        "𝑦\n",
        ")\n",
        "log\n",
        "⁡\n",
        "(\n",
        "1\n",
        "−\n",
        "ℎ\n",
        "𝜃\n",
        "(\n",
        "𝑥\n",
        ")\n",
        ")\n",
        "]\n",
        "J(θ)=−\n",
        "m\n",
        "1\n",
        "​\n",
        " ∑[ylog(h\n",
        "θ\n",
        "​\n",
        " (x))+(1−y)log(1−h\n",
        "θ\n",
        "​\n",
        " (x))]\n",
        "This penalizes incorrect predictions more heavily."
      ],
      "metadata": {
        "id": "PHaRjpjEv9JP"
      }
    },
    {
      "cell_type": "markdown",
      "source": [
        "Answer to Q.No 5:\n",
        "\n",
        "Regularization prevents overfitting by adding a penalty to large coefficients. Common types:\n",
        "\n",
        "L1 (Lasso): Shrinks some coefficients to zero.\n",
        "L2 (Ridge): Reduces coefficients but keeps all features.\n"
      ],
      "metadata": {
        "id": "Z-1C7XUZzdCk"
      }
    },
    {
      "cell_type": "markdown",
      "source": [
        "Answer to Q.No 6:\n",
        "\n",
        "Lasso (L1): Performs feature selection by reducing some coefficients to zero.\n",
        "Ridge (L2): Shrinks coefficients but does not remove them.\n",
        "Elastic Net: Combination of L1 and L2, balancing feature selection and coefficient shrinkage.\n"
      ],
      "metadata": {
        "id": "9aUs_8RSzmrO"
      }
    },
    {
      "cell_type": "markdown",
      "source": [
        "Answer to Q.No 7:\n",
        "\n",
        "Use Elastic Net when:\n",
        "\n",
        "There are many correlated features.\n",
        "Lasso removes too many features.\n",
        "Ridge does not perform feature selection.\n"
      ],
      "metadata": {
        "id": "ouLM-bFazsGP"
      }
    },
    {
      "cell_type": "markdown",
      "source": [
        "Answer to Q.No 8:\n",
        "\n",
        "Higher λ: Increases regularization → avoids overfitting.\n",
        "Lower λ: Reduces regularization → allows model complexity.\n",
        "λ = 0: No regularization, leading to potential overfitting.\n"
      ],
      "metadata": {
        "id": "hik1u_6qzu_A"
      }
    },
    {
      "cell_type": "markdown",
      "source": [
        "Answer to Q.No 9:\n",
        "\n",
        "No severe multicollinearity among independent variables.\n",
        "Logit relationship between features and log-odds.\n",
        "Independent observations.\n",
        "Sufficient sample size."
      ],
      "metadata": {
        "id": "EcMtqyxAzz8L"
      }
    },
    {
      "cell_type": "markdown",
      "source": [
        "Answer to Q.No 10:\n",
        "\n",
        "Support Vector Machines (SVM)\n",
        "Decision Trees & Random Forests\n",
        "Gradient Boosting (XGBoost, LightGBM)\n",
        "Neural Networks"
      ],
      "metadata": {
        "id": "elZBR_SCz-Lo"
      }
    },
    {
      "cell_type": "markdown",
      "source": [
        "Answer to Q.No 11:\n",
        "\n",
        "Accuracy = Correct Predictions / Total Predictions\n",
        "Precision = TP / (TP + FP)\n",
        "Recall = TP / (TP + FN)\n",
        "F1 Score = Harmonic mean of Precision & Recall\n",
        "ROC-AUC = Measures classification performance at different thresholds"
      ],
      "metadata": {
        "id": "W7udVlM30GlY"
      }
    },
    {
      "cell_type": "markdown",
      "source": [
        "Answer to Q.No 12:\n",
        "\n",
        "The model may become biased toward the majority class.\n",
        "Solutions:\n",
        "\n",
        "Resampling (Oversampling minority, undersampling majority)\n",
        "Adjusting class weights\n",
        "Using Precision, Recall, F1-score instead of Accuracy"
      ],
      "metadata": {
        "id": "S_y06hbw0Iz2"
      }
    },
    {
      "cell_type": "markdown",
      "source": [
        "Answer to Q.No 13:\n",
        "\n",
        "Adjusting parameters like regularization strength (λ) and solver choice to improve model performance.\n",
        "Methods: Grid Search, Random Search."
      ],
      "metadata": {
        "id": "aDaI52_40M3c"
      }
    },
    {
      "cell_type": "markdown",
      "source": [
        "Answer to Q.No 14:\n",
        "\n",
        "liblinear: Good for small datasets.\n",
        "saga: Works well with L1 regularization and large datasets.\n",
        "lbfgs: Handles multiclass problems.\n",
        "newton-cg: Works with large datasets and L2 regularization."
      ],
      "metadata": {
        "id": "WtT9e5dC1ChC"
      }
    },
    {
      "cell_type": "markdown",
      "source": [
        "Answer to Q.No 15:\n",
        "\n",
        "One-vs-Rest (OvR): Trains one model per class vs. others.\n",
        "Softmax Regression: Assigns probabilities to multiple classes."
      ],
      "metadata": {
        "id": "1WUmS_LH1FHr"
      }
    },
    {
      "cell_type": "markdown",
      "source": [
        "Answer to Q.No 16:\n",
        "\n",
        "Advantages:\n",
        "\n",
        "Simple and interpretable\n",
        "Works well for linearly separable data\n",
        "Fast training\n",
        "\n",
        "Disadvantages:\n",
        "\n",
        "Cannot model complex relationships\n",
        "Sensitive to outliers\n",
        "Assumes linearity in log-odds"
      ],
      "metadata": {
        "id": "2xMBU5BL1MeG"
      }
    },
    {
      "cell_type": "markdown",
      "source": [
        "Answer to Q.No 17:\n",
        "\n",
        "Spam detection\n",
        "Medical diagnosis (disease prediction)\n",
        "Customer churn prediction\n",
        "Credit risk assessment\n",
        "Fraud detection"
      ],
      "metadata": {
        "id": "FumzHJxj1P4j"
      }
    },
    {
      "cell_type": "markdown",
      "source": [
        "Answer to Q.No 18:\n",
        "\n",
        "Logistic Regression: Binary classification (0/1).\n",
        "Softmax Regression: Multi-class classification."
      ],
      "metadata": {
        "id": "mUTAgvHHoJyj"
      }
    },
    {
      "cell_type": "markdown",
      "source": [
        "Answer to Q.No 19:\n",
        "\n",
        "OvR: Good when classes are not strongly related.\n",
        "Softmax: Better when classes are mutually exclusive."
      ],
      "metadata": {
        "id": "vXeFKiGyoO3t"
      }
    },
    {
      "cell_type": "markdown",
      "source": [
        "Answer to Q.No 20:\n",
        "\n",
        "Coefficients represent the log-odds change for a one-unit increase in a feature.\n",
        "Exp(β) gives the odds ratio, showing how the odds change."
      ],
      "metadata": {
        "id": "T22ze9nToS4Q"
      }
    },
    {
      "cell_type": "markdown",
      "source": [
        "Practical Questions:\n",
        "\n",
        "Answer to Q.No 1:"
      ],
      "metadata": {
        "id": "0o_XyR27oXu_"
      }
    },
    {
      "cell_type": "code",
      "source": [
        "from sklearn.model_selection import train_test_split\n",
        "from sklearn.linear_model import LogisticRegression\n",
        "from sklearn.metrics import accuracy_score\n",
        "from sklearn.datasets import load_iris\n",
        "\n",
        "data = load_iris()\n",
        "X, y = data.data, data.target\n",
        "\n",
        "X_train, X_test, y_train, y_test = train_test_split(X, y, test_size=0.2, random_state=42)\n",
        "\n",
        "model = LogisticRegression()\n",
        "model.fit(X_train, y_train)\n",
        "\n",
        "y_pred = model.predict(X_test)\n",
        "accuracy = accuracy_score(y_test, y_pred)\n",
        "print(\"Model Accuracy:\", accuracy)"
      ],
      "metadata": {
        "colab": {
          "base_uri": "https://localhost:8080/"
        },
        "id": "wE72HxIupUOn",
        "outputId": "239580bd-50e5-4d4f-e436-97ea16cc8d44"
      },
      "execution_count": 1,
      "outputs": [
        {
          "output_type": "stream",
          "name": "stdout",
          "text": [
            "Model Accuracy: 1.0\n"
          ]
        }
      ]
    },
    {
      "cell_type": "markdown",
      "source": [
        "Answer to Q.No 2:"
      ],
      "metadata": {
        "id": "LmgAqAY5pkVY"
      }
    },
    {
      "cell_type": "code",
      "source": [
        "from sklearn.linear_model import LogisticRegression\n",
        "\n",
        "model = LogisticRegression(penalty='l1', solver='liblinear')\n",
        "model.fit(X_train, y_train)\n",
        "\n",
        "y_pred = model.predict(X_test)\n",
        "accuracy = accuracy_score(y_test, y_pred)\n",
        "print(\"L1 Regularized Model Accuracy:\", accuracy)\n",
        "from sklearn.linear_model import LogisticRegression\n",
        "\n",
        "model = LogisticRegression(penalty='l1', solver='liblinear')\n",
        "model.fit(X_train, y_train)\n",
        "\n",
        "y_pred = model.predict(X_test)\n",
        "accuracy = accuracy_score(y_test, y_pred)\n",
        "print(\"L1 Regularized Model Accuracy:\", accuracy)"
      ],
      "metadata": {
        "colab": {
          "base_uri": "https://localhost:8080/"
        },
        "id": "D_oMRXdmpmQ5",
        "outputId": "a7094b2d-712c-492c-acca-3b8708fad125"
      },
      "execution_count": 2,
      "outputs": [
        {
          "output_type": "stream",
          "name": "stdout",
          "text": [
            "L1 Regularized Model Accuracy: 1.0\n",
            "L1 Regularized Model Accuracy: 1.0\n"
          ]
        }
      ]
    },
    {
      "cell_type": "markdown",
      "source": [
        "Answer to Q.No 3:"
      ],
      "metadata": {
        "id": "h1s5WydYp5iW"
      }
    },
    {
      "cell_type": "code",
      "source": [
        "model = LogisticRegression(penalty='l2')\n",
        "model.fit(X_train, y_train)\n",
        "\n",
        "print(\"Coefficients:\", model.coef_)\n",
        "print(\"L2 Regularized Model Accuracy:\", accuracy_score(y_test, model.predict(X_test)))"
      ],
      "metadata": {
        "colab": {
          "base_uri": "https://localhost:8080/"
        },
        "id": "mAwm2E5kp7Rr",
        "outputId": "0666170c-2119-40e6-b8a7-14f6f08c7d04"
      },
      "execution_count": 3,
      "outputs": [
        {
          "output_type": "stream",
          "name": "stdout",
          "text": [
            "Coefficients: [[-0.39340204  0.96258576 -2.37510761 -0.99874603]\n",
            " [ 0.50840364 -0.25486503 -0.21301366 -0.77575487]\n",
            " [-0.1150016  -0.70772072  2.58812127  1.77450091]]\n",
            "L2 Regularized Model Accuracy: 1.0\n"
          ]
        }
      ]
    },
    {
      "cell_type": "markdown",
      "source": [
        "Answer to Q.No 4:"
      ],
      "metadata": {
        "id": "1Lsxz4n-qTpl"
      }
    },
    {
      "cell_type": "code",
      "source": [
        "model = LogisticRegression(penalty='elasticnet', solver='saga', l1_ratio=0.5)\n",
        "model.fit(X_train, y_train)\n",
        "\n",
        "print(\"Elastic Net Model Accuracy:\", accuracy_score(y_test, model.predict(X_test)))"
      ],
      "metadata": {
        "colab": {
          "base_uri": "https://localhost:8080/"
        },
        "id": "eIhS6-jkqVvz",
        "outputId": "3c490d3a-8fad-48a2-b59c-25eb13d447bd"
      },
      "execution_count": 4,
      "outputs": [
        {
          "output_type": "stream",
          "name": "stdout",
          "text": [
            "Elastic Net Model Accuracy: 1.0\n"
          ]
        },
        {
          "output_type": "stream",
          "name": "stderr",
          "text": [
            "/usr/local/lib/python3.11/dist-packages/sklearn/linear_model/_sag.py:348: ConvergenceWarning: The max_iter was reached which means the coef_ did not converge\n",
            "  warnings.warn(\n"
          ]
        }
      ]
    },
    {
      "cell_type": "markdown",
      "source": [
        "Answer to Q.No 5:"
      ],
      "metadata": {
        "id": "35Ob6podqewN"
      }
    },
    {
      "cell_type": "code",
      "source": [
        "model = LogisticRegression(multi_class='ovr')\n",
        "model.fit(X_train, y_train)\n",
        "\n",
        "print(\"OvR Multiclass Model Accuracy:\", accuracy_score(y_test, model.predict(X_test)))\n"
      ],
      "metadata": {
        "colab": {
          "base_uri": "https://localhost:8080/"
        },
        "id": "miWgdDivqgeh",
        "outputId": "a0543a00-fb38-425e-c079-e5dbd8176c8d"
      },
      "execution_count": 5,
      "outputs": [
        {
          "output_type": "stream",
          "name": "stdout",
          "text": [
            "OvR Multiclass Model Accuracy: 0.9666666666666667\n"
          ]
        },
        {
          "output_type": "stream",
          "name": "stderr",
          "text": [
            "/usr/local/lib/python3.11/dist-packages/sklearn/linear_model/_logistic.py:1256: FutureWarning: 'multi_class' was deprecated in version 1.5 and will be removed in 1.7. Use OneVsRestClassifier(LogisticRegression(..)) instead. Leave it to its default value to avoid this warning.\n",
            "  warnings.warn(\n"
          ]
        }
      ]
    },
    {
      "cell_type": "markdown",
      "source": [
        "Answer to Q.No 6:"
      ],
      "metadata": {
        "id": "_n2MTcH0qjZ9"
      }
    },
    {
      "cell_type": "code",
      "source": [
        "from sklearn.model_selection import GridSearchCV\n",
        "\n",
        "param_grid = {'C': [0.1, 1, 10], 'penalty': ['l1', 'l2']}\n",
        "grid = GridSearchCV(LogisticRegression(solver='liblinear'), param_grid, cv=5)\n",
        "\n",
        "grid.fit(X_train, y_train)\n",
        "\n",
        "print(\"Best Parameters:\", grid.best_params_)\n",
        "print(\"Best Accuracy:\", grid.best_score_)\n"
      ],
      "metadata": {
        "colab": {
          "base_uri": "https://localhost:8080/"
        },
        "id": "TZcTl5AKqlgW",
        "outputId": "295091d5-7ce7-43b2-d7e7-ddd3d55d56fb"
      },
      "execution_count": 6,
      "outputs": [
        {
          "output_type": "stream",
          "name": "stdout",
          "text": [
            "Best Parameters: {'C': 10, 'penalty': 'l1'}\n",
            "Best Accuracy: 0.9583333333333334\n"
          ]
        }
      ]
    },
    {
      "cell_type": "markdown",
      "source": [
        "Answer to Q.No 7:"
      ],
      "metadata": {
        "id": "pSRKST17qrqI"
      }
    },
    {
      "cell_type": "code",
      "source": [
        "from sklearn.model_selection import StratifiedKFold, cross_val_score\n",
        "\n",
        "skf = StratifiedKFold(n_splits=5, shuffle=True, random_state=42)\n",
        "model = LogisticRegression()\n",
        "\n",
        "scores = cross_val_score(model, X, y, cv=skf)\n",
        "print(\"Cross-Validation Accuracy:\", scores.mean())\n"
      ],
      "metadata": {
        "colab": {
          "base_uri": "https://localhost:8080/"
        },
        "id": "VPV16WamqtTp",
        "outputId": "b77fdfb9-f0c2-48aa-bd1c-7949ed7a0c3a"
      },
      "execution_count": 7,
      "outputs": [
        {
          "output_type": "stream",
          "name": "stdout",
          "text": [
            "Cross-Validation Accuracy: 0.9666666666666668\n"
          ]
        },
        {
          "output_type": "stream",
          "name": "stderr",
          "text": [
            "/usr/local/lib/python3.11/dist-packages/sklearn/linear_model/_logistic.py:465: ConvergenceWarning: lbfgs failed to converge (status=1):\n",
            "STOP: TOTAL NO. of ITERATIONS REACHED LIMIT.\n",
            "\n",
            "Increase the number of iterations (max_iter) or scale the data as shown in:\n",
            "    https://scikit-learn.org/stable/modules/preprocessing.html\n",
            "Please also refer to the documentation for alternative solver options:\n",
            "    https://scikit-learn.org/stable/modules/linear_model.html#logistic-regression\n",
            "  n_iter_i = _check_optimize_result(\n"
          ]
        }
      ]
    },
    {
      "cell_type": "markdown",
      "source": [
        "Answer to Q.No 8:"
      ],
      "metadata": {
        "id": "2cGUv2z2qyF7"
      }
    },
    {
      "cell_type": "code",
      "source": [
        "import pandas as pd\n",
        "import numpy as np\n",
        "from sklearn.model_selection import train_test_split\n",
        "from sklearn.linear_model import LogisticRegression\n",
        "from sklearn.metrics import accuracy_score\n",
        "\n",
        "\n",
        "np.random.seed(42)\n",
        "num_samples = 200\n",
        "\n",
        "X = np.random.rand(num_samples, 4)\n",
        "\n",
        "y = np.random.choice([0, 1], size=num_samples)\n",
        "\n",
        "df = pd.DataFrame(X, columns=[\"Feature1\", \"Feature2\", \"Feature3\", \"Feature4\"])\n",
        "df[\"Target\"] = y\n",
        "\n",
        "print(\"Generated Dataset:\")\n",
        "print(df.head())\n",
        "\n",
        "X_train, X_test, y_train, y_test = train_test_split(X, y, test_size=0.2, random_state=42)\n",
        "\n",
        "model = LogisticRegression()\n",
        "model.fit(X_train, y_train)\n",
        "\n",
        "y_pred = model.predict(X_test)\n",
        "accuracy = accuracy_score(y_test, y_pred)\n",
        "\n",
        "print(\"\\nModel Accuracy on Generated Data:\", accuracy)\n"
      ],
      "metadata": {
        "colab": {
          "base_uri": "https://localhost:8080/"
        },
        "id": "2A0yMHicq0bS",
        "outputId": "c64b5553-a838-42f1-87b9-92db1199dac4"
      },
      "execution_count": 10,
      "outputs": [
        {
          "output_type": "stream",
          "name": "stdout",
          "text": [
            "Generated Dataset:\n",
            "   Feature1  Feature2  Feature3  Feature4  Target\n",
            "0  0.374540  0.950714  0.731994  0.598658       1\n",
            "1  0.156019  0.155995  0.058084  0.866176       0\n",
            "2  0.601115  0.708073  0.020584  0.969910       1\n",
            "3  0.832443  0.212339  0.181825  0.183405       0\n",
            "4  0.304242  0.524756  0.431945  0.291229       1\n",
            "\n",
            "Model Accuracy on Generated Data: 0.6\n"
          ]
        }
      ]
    },
    {
      "cell_type": "markdown",
      "source": [
        "Answer to Q.No 9:"
      ],
      "metadata": {
        "id": "aimDEorutjPM"
      }
    },
    {
      "cell_type": "code",
      "source": [
        "from sklearn.model_selection import RandomizedSearchCV\n",
        "from scipy.stats import uniform\n",
        "\n",
        "param_dist = {'C': uniform(0.1, 10), 'penalty': ['l1', 'l2'], 'solver': ['liblinear', 'saga']}\n",
        "\n",
        "random_search = RandomizedSearchCV(LogisticRegression(), param_distributions=param_dist, n_iter=10, cv=5, random_state=42)\n",
        "random_search.fit(X_train, y_train)\n",
        "\n",
        "print(\"Best Parameters:\", random_search.best_params_)\n",
        "print(\"Best Accuracy:\", random_search.best_score_)\n"
      ],
      "metadata": {
        "colab": {
          "base_uri": "https://localhost:8080/"
        },
        "id": "hKBOihMatlQ9",
        "outputId": "59b02227-7dc3-4d04-fb04-4ddf10ab2d88"
      },
      "execution_count": 11,
      "outputs": [
        {
          "output_type": "stream",
          "name": "stdout",
          "text": [
            "Best Parameters: {'C': 1.6601864044243653, 'penalty': 'l1', 'solver': 'liblinear'}\n",
            "Best Accuracy: 0.53125\n"
          ]
        }
      ]
    },
    {
      "cell_type": "markdown",
      "source": [
        "Answer to Q.No 10:"
      ],
      "metadata": {
        "id": "7MAfj7hpwVK_"
      }
    },
    {
      "cell_type": "code",
      "source": [
        "from sklearn.multiclass import OneVsOneClassifier\n",
        "\n",
        "# Train One-vs-One model\n",
        "ovo_model = OneVsOneClassifier(LogisticRegression()).fit(X_train, y_train)\n",
        "\n",
        "# Predict and evaluate accuracy\n",
        "print(\"OvO Model Accuracy:\", accuracy_score(y_test, ovo_model.predict(X_test)))"
      ],
      "metadata": {
        "colab": {
          "base_uri": "https://localhost:8080/"
        },
        "id": "2k9DhNo9wXc1",
        "outputId": "f0031299-0f8d-4d3c-81bb-a08b55a7fce5"
      },
      "execution_count": 12,
      "outputs": [
        {
          "output_type": "stream",
          "name": "stdout",
          "text": [
            "OvO Model Accuracy: 0.6\n"
          ]
        }
      ]
    },
    {
      "cell_type": "markdown",
      "source": [
        "Answer to Q.No 11:"
      ],
      "metadata": {
        "id": "kBf4Bh6cxhw4"
      }
    },
    {
      "cell_type": "code",
      "source": [
        "import seaborn as sns\n",
        "import matplotlib.pyplot as plt\n",
        "from sklearn.metrics import confusion_matrix\n",
        "\n",
        "# Train model\n",
        "model = LogisticRegression()\n",
        "model.fit(X_train, y_train)\n",
        "\n",
        "# Predict and plot confusion matrix\n",
        "cm = confusion_matrix(y_test, model.predict(X_test))\n",
        "sns.heatmap(cm, annot=True, fmt='d', cmap='Blues')\n",
        "plt.xlabel(\"Predicted\")\n",
        "plt.ylabel(\"Actual\")\n",
        "plt.title(\"Confusion Matrix\")\n",
        "plt.show()"
      ],
      "metadata": {
        "colab": {
          "base_uri": "https://localhost:8080/",
          "height": 472
        },
        "id": "wnTNRRa5xjyv",
        "outputId": "4a143ff5-b9b9-4892-eb52-a653f64b467e"
      },
      "execution_count": 13,
      "outputs": [
        {
          "output_type": "display_data",
          "data": {
            "text/plain": [
              "<Figure size 640x480 with 2 Axes>"
            ],
            "image/png": "[encoded data removed]"
          },
          "metadata": {}
        }
      ]
    },
    {
      "cell_type": "markdown",
      "source": [
        "Answer to Q.No 12:"
      ],
      "metadata": {
        "id": "_IhinM5J0S9W"
      }
    },
    {
      "cell_type": "code",
      "source": [
        "from sklearn.metrics import precision_score, recall_score, f1_score\n",
        "\n",
        "y_pred = model.predict(X_test)\n",
        "print(\"Precision:\", precision_score(y_test, y_pred, average='weighted'))\n",
        "print(\"Recall:\", recall_score(y_test, y_pred, average='weighted'))\n",
        "print(\"F1 Score:\", f1_score(y_test, y_pred, average='weighted'))\n"
      ],
      "metadata": {
        "colab": {
          "base_uri": "https://localhost:8080/"
        },
        "id": "kQneDuwe0Urd",
        "outputId": "c070a774-00e5-4386-dd9c-f594451a4f52"
      },
      "execution_count": 14,
      "outputs": [
        {
          "output_type": "stream",
          "name": "stdout",
          "text": [
            "Precision: 0.5913419913419913\n",
            "Recall: 0.6\n",
            "F1 Score: 0.5523809523809524\n"
          ]
        }
      ]
    },
    {
      "cell_type": "markdown",
      "source": [
        "Answer to Q.No 13:"
      ],
      "metadata": {
        "id": "EsW5RfF00b3J"
      }
    },
    {
      "cell_type": "code",
      "source": [
        "# Train Logistic Regression with class weights\n",
        "model = LogisticRegression(class_weight='balanced')\n",
        "model.fit(X_train, y_train)\n",
        "\n",
        "# Predict and print accuracy\n",
        "print(\"Accuracy with Class Weighting:\", accuracy_score(y_test, model.predict(X_test)))\n"
      ],
      "metadata": {
        "colab": {
          "base_uri": "https://localhost:8080/"
        },
        "id": "1XKUQ8vm0eSN",
        "outputId": "50ebb8e7-3dcf-4e90-e0de-ccc1a0fc237a"
      },
      "execution_count": 15,
      "outputs": [
        {
          "output_type": "stream",
          "name": "stdout",
          "text": [
            "Accuracy with Class Weighting: 0.6\n"
          ]
        }
      ]
    },
    {
      "cell_type": "markdown",
      "source": [
        "Answer to Q.No 14:"
      ],
      "metadata": {
        "id": "TDcwLdas0oJ8"
      }
    },
    {
      "cell_type": "code",
      "source": [
        "import seaborn as sns\n",
        "from sklearn.impute import SimpleImputer\n",
        "\n",
        "# Load Titanic dataset\n",
        "df = sns.load_dataset(\"titanic\")\n",
        "\n",
        "# Select relevant columns and handle missing values\n",
        "df = df[['sex', 'age', 'fare', 'survived']].dropna()\n",
        "df['sex'] = df['sex'].map({'male': 0, 'female': 1})\n",
        "\n",
        "# Define features and target\n",
        "X = df[['sex', 'age', 'fare']]\n",
        "y = df['survived']\n",
        "\n",
        "# Impute missing values\n",
        "imputer = SimpleImputer(strategy='mean')\n",
        "X = imputer.fit_transform(X)\n",
        "\n",
        "# Split and train\n",
        "X_train, X_test, y_train, y_test = train_test_split(X, y, test_size=0.2, random_state=42)\n",
        "model = LogisticRegression()\n",
        "model.fit(X_train, y_train)\n",
        "\n",
        "print(\"Titanic Dataset Accuracy:\", accuracy_score(y_test, model.predict(X_test)))\n"
      ],
      "metadata": {
        "colab": {
          "base_uri": "https://localhost:8080/"
        },
        "id": "uw-xVwsu0pqO",
        "outputId": "8011553d-dbca-49a7-d68e-4cc4f80b85b7"
      },
      "execution_count": 16,
      "outputs": [
        {
          "output_type": "stream",
          "name": "stdout",
          "text": [
            "Titanic Dataset Accuracy: 0.7482517482517482\n"
          ]
        }
      ]
    },
    {
      "cell_type": "markdown",
      "source": [
        "Answer to Q.No 15:"
      ],
      "metadata": {
        "id": "hQrAhGjD4Cs5"
      }
    },
    {
      "cell_type": "code",
      "source": [
        "from sklearn.preprocessing import StandardScaler\n",
        "\n",
        "# Standardize features\n",
        "scaler = StandardScaler()\n",
        "X_train_scaled = scaler.fit_transform(X_train)\n",
        "X_test_scaled = scaler.transform(X_test)\n",
        "\n",
        "# Train models on raw and scaled data\n",
        "model_raw = LogisticRegression().fit(X_train, y_train)\n",
        "model_scaled = LogisticRegression().fit(X_train_scaled, y_train)\n",
        "\n",
        "# Compare accuracy\n",
        "print(\"Accuracy without Scaling:\", accuracy_score(y_test, model_raw.predict(X_test)))\n",
        "print(\"Accuracy with Scaling:\", accuracy_score(y_test, model_scaled.predict(X_test_scaled)))\n"
      ],
      "metadata": {
        "colab": {
          "base_uri": "https://localhost:8080/"
        },
        "id": "3DNar8Nm4Lw5",
        "outputId": "a0514c24-1762-42ed-f4b7-f7a7de3b66b8"
      },
      "execution_count": 18,
      "outputs": [
        {
          "output_type": "stream",
          "name": "stdout",
          "text": [
            "Accuracy without Scaling: 0.7482517482517482\n",
            "Accuracy with Scaling: 0.7482517482517482\n"
          ]
        }
      ]
    },
    {
      "cell_type": "markdown",
      "source": [
        "Answer to Q.No 16:"
      ],
      "metadata": {
        "id": "wlYe89Rk4NCh"
      }
    },
    {
      "cell_type": "code",
      "source": [
        "from sklearn.metrics import roc_auc_score\n",
        "\n",
        "y_pred_prob = model.predict_proba(X_test)[:, 1]\n",
        "print(\"ROC-AUC Score:\", roc_auc_score(y_test, y_pred_prob))\n"
      ],
      "metadata": {
        "colab": {
          "base_uri": "https://localhost:8080/"
        },
        "id": "uSG2hUfa4PDt",
        "outputId": "937c14f7-7380-41b0-e90a-9fa7132a0aa8"
      },
      "execution_count": 19,
      "outputs": [
        {
          "output_type": "stream",
          "name": "stdout",
          "text": [
            "ROC-AUC Score: 0.7475369458128078\n"
          ]
        }
      ]
    },
    {
      "cell_type": "markdown",
      "source": [
        "Answer to Q.No 17:"
      ],
      "metadata": {
        "id": "7-k6plpQ4k7S"
      }
    },
    {
      "cell_type": "code",
      "source": [
        "# Train Logistic Regression with custom C value\n",
        "model = LogisticRegression(C=0.5)\n",
        "model.fit(X_train, y_train)\n",
        "\n",
        "# Print accuracy\n",
        "print(\"Accuracy with C=0.5:\", accuracy_score(y_test, model.predict(X_test)))\n"
      ],
      "metadata": {
        "colab": {
          "base_uri": "https://localhost:8080/"
        },
        "id": "Jy8rmBgO4pwy",
        "outputId": "c2700e70-9e46-4ebe-dff9-c295ac38f1cd"
      },
      "execution_count": 20,
      "outputs": [
        {
          "output_type": "stream",
          "name": "stdout",
          "text": [
            "Accuracy with C=0.5: 0.7482517482517482\n"
          ]
        }
      ]
    },
    {
      "cell_type": "markdown",
      "source": [
        "Answer to Q.No 18:"
      ],
      "metadata": {
        "id": "OvN7ANXr4s3D"
      }
    },
    {
      "cell_type": "code",
      "source": [
        "# Train model and get feature importance\n",
        "model = LogisticRegression()\n",
        "model.fit(X_train, y_train)\n",
        "\n",
        "# Print coefficients\n",
        "for feature, coef in zip(df.columns[:-1], model.coef_[0]):\n",
        "    print(f\"{feature}: {coef}\")\n"
      ],
      "metadata": {
        "colab": {
          "base_uri": "https://localhost:8080/"
        },
        "id": "k8O4Osb24u5P",
        "outputId": "176a826d-9ace-4564-c3b2-3e9650cded67"
      },
      "execution_count": 21,
      "outputs": [
        {
          "output_type": "stream",
          "name": "stdout",
          "text": [
            "sex: 2.3702897104875045\n",
            "age: -0.01835572956837989\n",
            "fare: 0.012810151754953846\n"
          ]
        }
      ]
    },
    {
      "cell_type": "markdown",
      "source": [
        "Answer to Q.No 19:"
      ],
      "metadata": {
        "id": "nhExuW744ydI"
      }
    },
    {
      "cell_type": "code",
      "source": [
        "from sklearn.metrics import cohen_kappa_score\n",
        "\n",
        "print(\"Cohen's Kappa Score:\", cohen_kappa_score(y_test, model.predict(X_test)))\n"
      ],
      "metadata": {
        "colab": {
          "base_uri": "https://localhost:8080/"
        },
        "id": "tq5WQlSM46M_",
        "outputId": "402a124f-b9f2-4bc7-d707-3ed55d4a3a7c"
      },
      "execution_count": 22,
      "outputs": [
        {
          "output_type": "stream",
          "name": "stdout",
          "text": [
            "Cohen's Kappa Score: 0.4716748768472906\n"
          ]
        }
      ]
    },
    {
      "cell_type": "markdown",
      "source": [
        "Answer to Q.No 20:"
      ],
      "metadata": {
        "id": "apB9-IcP47r-"
      }
    },
    {
      "cell_type": "code",
      "source": [
        "from sklearn.metrics import precision_recall_curve\n",
        "\n",
        "precision, recall, _ = precision_recall_curve(y_test, y_pred_prob)\n",
        "plt.plot(recall, precision, marker='.')\n",
        "plt.xlabel('Recall')\n",
        "plt.ylabel('Precision')\n",
        "plt.title('Precision-Recall Curve')\n",
        "plt.show()\n"
      ],
      "metadata": {
        "colab": {
          "base_uri": "https://localhost:8080/",
          "height": 472
        },
        "id": "BqwFIQAE49TS",
        "outputId": "317e2f38-4217-4f79-a3b0-278558e170fa"
      },
      "execution_count": 23,
      "outputs": [
        {
          "output_type": "display_data",
          "data": {
            "text/plain": [
              "<Figure size 640x480 with 1 Axes>"
            ],
            "image/png": "[encoded data removed]"
          },
          "metadata": {}
        }
      ]
    },
    {
      "cell_type": "markdown",
      "source": [
        "Answer to Q.No 21:"
      ],
      "metadata": {
        "id": "d3JwUhfs4_kg"
      }
    },
    {
      "cell_type": "code",
      "source": [
        "solvers = ['liblinear', 'saga', 'lbfgs']\n",
        "for solver in solvers:\n",
        "    model = LogisticRegression(solver=solver)\n",
        "    model.fit(X_train, y_train)\n",
        "    print(f\"Solver: {solver}, Accuracy: {accuracy_score(y_test, model.predict(X_test))}\")\n",
        "\n"
      ],
      "metadata": {
        "colab": {
          "base_uri": "https://localhost:8080/"
        },
        "id": "ogGfiZ-M5HDB",
        "outputId": "c13aadb2-f8c9-40ea-bd80-e34edbb73cfa"
      },
      "execution_count": 25,
      "outputs": [
        {
          "output_type": "stream",
          "name": "stdout",
          "text": [
            "Solver: liblinear, Accuracy: 0.7482517482517482\n",
            "Solver: saga, Accuracy: 0.6363636363636364\n",
            "Solver: lbfgs, Accuracy: 0.7482517482517482\n"
          ]
        },
        {
          "output_type": "stream",
          "name": "stderr",
          "text": [
            "/usr/local/lib/python3.11/dist-packages/sklearn/linear_model/_sag.py:348: ConvergenceWarning: The max_iter was reached which means the coef_ did not converge\n",
            "  warnings.warn(\n"
          ]
        }
      ]
    },
    {
      "cell_type": "markdown",
      "source": [
        "Answer to Q.No 22:"
      ],
      "metadata": {
        "id": "rJtiquKV5Wdr"
      }
    },
    {
      "cell_type": "code",
      "source": [
        "from sklearn.metrics import matthews_corrcoef\n",
        "\n",
        "print(\"Matthews Correlation Coefficient:\", matthews_corrcoef(y_test, model.predict(X_test)))\n"
      ],
      "metadata": {
        "colab": {
          "base_uri": "https://localhost:8080/"
        },
        "id": "pIlNxwv55YYh",
        "outputId": "6403427d-15c1-418b-e4a4-90146b01d7d4"
      },
      "execution_count": 26,
      "outputs": [
        {
          "output_type": "stream",
          "name": "stdout",
          "text": [
            "Matthews Correlation Coefficient: 0.47167487684729065\n"
          ]
        }
      ]
    },
    {
      "cell_type": "markdown",
      "source": [
        "Answer to Q.No 23:"
      ],
      "metadata": {
        "id": "IazT2PBI5akc"
      }
    },
    {
      "cell_type": "code",
      "source": [
        "# Already implemented in Q15."
      ],
      "metadata": {
        "id": "RAVTKFMd5dFH"
      },
      "execution_count": null,
      "outputs": []
    },
    {
      "cell_type": "markdown",
      "source": [
        "Answer to Q.No 24:"
      ],
      "metadata": {
        "id": "158CdQwB5gu1"
      }
    },
    {
      "cell_type": "code",
      "source": [
        "import joblib\n",
        "\n",
        "# Save model\n",
        "joblib.dump(model, \"logistic_model.pkl\")\n",
        "\n",
        "# Load model\n",
        "loaded_model = joblib.load(\"logistic_model.pkl\")\n",
        "print(\"Loaded Model Accuracy:\", accuracy_score(y_test, loaded_model.predict(X_test)))\n"
      ],
      "metadata": {
        "colab": {
          "base_uri": "https://localhost:8080/"
        },
        "id": "XXMRTscK5j23",
        "outputId": "2e7623d1-9103-40bd-fe48-28d233df5bc6"
      },
      "execution_count": 27,
      "outputs": [
        {
          "output_type": "stream",
          "name": "stdout",
          "text": [
            "Loaded Model Accuracy: 0.7482517482517482\n"
          ]
        }
      ]
    },
    {
      "cell_type": "code",
      "source": [],
      "metadata": {
        "id": "QBdsGlqj5nbF"
      },
      "execution_count": null,
      "outputs": []
    }
  ]
}