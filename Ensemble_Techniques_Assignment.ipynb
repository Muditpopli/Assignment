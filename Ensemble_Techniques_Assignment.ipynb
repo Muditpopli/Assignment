{
  "nbformat": 4,
  "nbformat_minor": 0,
  "metadata": {
    "colab": {
      "provenance": []
    },
    "kernelspec": {
      "name": "python3",
      "display_name": "Python 3"
    },
    "language_info": {
      "name": "python"
    }
  },
  "cells": [
    {
      "cell_type": "markdown",
      "source": [
        "Answer to Q.No 1:\n",
        "\n",
        "Yes, Bagging can be used for regression problems. It works by training multiple models (like Decision Trees) on different bootstrapped datasets and averaging their predictions to improve stability and reduce variance. It helps in reducing overfitting and enhances accuracy."
      ],
      "metadata": {
        "id": "CA5j5islQdiM"
      }
    },
    {
      "cell_type": "markdown",
      "source": [
        "Answer to Q.No 2:\n",
        "\n",
        "Single model training involves using one model on the entire dataset, which may lead to overfitting or underfitting, depending on the model complexity. In contrast, multiple model training (ensemble methods) combines predictions from several models, reducing variance and improving accuracy. Ensembles like Bagging, Boosting, and Stacking help balance the bias-variance tradeoff and enhance generalization, making them more robust than single models."
      ],
      "metadata": {
        "id": "Yrw552HcQgVC"
      }
    },
    {
      "cell_type": "markdown",
      "source": [
        "Answer to Q.No 3:\n",
        "\n",
        "Feature randomness in Random Forest refers to the process where each decision tree in the ensemble selects a random subset of features at each split rather than considering all features. This helps in reducing correlation between trees and improving generalization. By randomly selecting features, Random Forest ensures diversity among the trees, making the model more robust, reducing overfitting, and improving performance on unseen data."
      ],
      "metadata": {
        "id": "8HLEpb22Qu_p"
      }
    },
    {
      "cell_type": "markdown",
      "source": [
        "Answer to Q.No 4:\n",
        "OOB score is a validation method in Random Forest. It uses samples not in a tree's bootstrap set to estimate the model's performance, providing an unbiased estimate without needing a separate validation set.\n"
      ],
      "metadata": {
        "id": "f5YNgclqQ1jU"
      }
    },
    {
      "cell_type": "markdown",
      "source": [
        "Answer to Q.No 5:\n",
        "\n",
        "Feature importance in Random Forest is measured by:\n",
        "\n",
        "Gini Importance/Mean Decrease Impurity: Average reduction in impurity (e.g., Gini index) when a feature is used for splitting.\n",
        "Mean Decrease Accuracy: Average decrease in model accuracy when a feature's values are randomly permuted."
      ],
      "metadata": {
        "id": "VkETuydoRyee"
      }
    },
    {
      "cell_type": "markdown",
      "source": [
        "Answer to Q.No 6:\n",
        "\n",
        "Bagging (Bootstrap Aggregating) works by:\n",
        "\n",
        "Bootstrapping: Creating multiple subsets of the training data by sampling with replacement.\n",
        "Training: Training a base classifier (e.g., decision tree) on each subset.\n",
        "Aggregation: Combining the predictions of all classifiers (e.g., majority voting for classification, averaging for regression) to produce a final prediction."
      ],
      "metadata": {
        "id": "Y6BdEWXGR5QN"
      }
    },
    {
      "cell_type": "markdown",
      "source": [
        "Answer to Q.No 7:\n",
        "\n",
        "Bagging Classifier performance is evaluated using:\n",
        "\n",
        "Out-of-Bag (OOB) score: For internal validation.\n",
        "Cross-validation: To assess generalization.\n",
        "Metrics: Accuracy, precision, recall, F1-score (for classification), or RMSE, MAE (for regression) on test data."
      ],
      "metadata": {
        "id": "naVodswuSD52"
      }
    },
    {
      "cell_type": "markdown",
      "source": [
        "Answer to Q.No 8:\n",
        "\n",
        "A Bagging Regressor works by:\n",
        "\n",
        "Bootstrapping: Creating multiple subsets of the training data by sampling with replacement.\n",
        "Training: Training a base regressor (e.g., decision tree) on each subset.\n",
        "Aggregation: Averaging the predictions of all regressors to produce a final prediction."
      ],
      "metadata": {
        "id": "Jnd4R_YMSOKG"
      }
    },
    {
      "cell_type": "markdown",
      "source": [
        "Answer to Q.No 9:\n",
        "\n",
        "The main advantage of ensemble techniques is improved prediction accuracy and robustness by reducing variance and bias, leading to better generalization on unseen data."
      ],
      "metadata": {
        "id": "irv-wlzbSX3Y"
      }
    },
    {
      "cell_type": "markdown",
      "source": [
        "Answer to Q.No 10:\n",
        "\n",
        "The main challenge of ensemble methods is increased computational complexity and training time, and potential loss of model interpretability."
      ],
      "metadata": {
        "id": "-ZGfr52fTr3g"
      }
    },
    {
      "cell_type": "markdown",
      "source": [
        "Answer to Q.No 11:\n",
        "\n",
        "The key idea behind ensemble techniques is to combine multiple \"weak\" learners (models) to create a \"strong\" learner, resulting in improved predictive performance and robustness. This is achieved by reducing variance, bias, or both."
      ],
      "metadata": {
        "id": "medPdWgWT1A4"
      }
    },
    {
      "cell_type": "markdown",
      "source": [
        "Answer to Q.No 12:\n",
        "\n",
        "A Random Forest Classifier is an ensemble learning method that:\n",
        "\n",
        "Builds multiple decision trees on random subsets of the data and features.\n",
        "Combines the predictions of these trees by majority voting to make a final classification.\n",
        "Reduces overfitting and improves accuracy.\n",
        "\n"
      ],
      "metadata": {
        "id": "YLBP_k5pT8Xs"
      }
    },
    {
      "cell_type": "markdown",
      "source": [
        "Answer to Q.No 13:\n",
        "\n",
        "The main types of ensemble techniques are:\n",
        "\n",
        "Bagging: Parallel training of independent models (e.g., Random Forest).\n",
        "Boosting: Sequential training of models, where each model corrects the errors of the previous one (e.g., AdaBoost, Gradient Boosting).\n",
        "Stacking: Combining predictions of multiple models using another model (meta-learner).\n",
        "Voting: Aggregating predictions by simple voting (hard or soft)"
      ],
      "metadata": {
        "id": "vKcfCTMRUFJG"
      }
    },
    {
      "cell_type": "markdown",
      "source": [
        "Answer to Q.No 14:\n",
        "\n",
        "Ensemble learning in machine learning combines multiple individual models to improve prediction accuracy and robustness."
      ],
      "metadata": {
        "id": "caDGEbawUQfs"
      }
    },
    {
      "cell_type": "markdown",
      "source": [
        "Answer to Q.No 15:\n",
        "\n",
        "Avoid ensemble methods when:\n",
        "\n",
        "Computational resources are limited: Ensembles are computationally expensive.\n",
        "Real-time predictions are crucial: Ensembles add latency.\n",
        "Model interpretability is paramount: Ensembles are often black boxes.\n",
        "The base model is already highly accurate: Minimal gains may not justify the added complexity.\n",
        "The dataset is very small: Ensembles might overfit."
      ],
      "metadata": {
        "id": "74-DiWEbUYsx"
      }
    },
    {
      "cell_type": "markdown",
      "source": [
        "Answer to Q.No 16:\n",
        "\n",
        "Bagging reduces overfitting by:\n",
        "\n",
        "Reducing variance: By training on multiple bootstrapped subsets, it averages out the errors of individual models, leading to a smoother decision boundary.\n",
        "Introducing randomness: Bootstrapping and feature subsampling (in Random Forest) create diverse models, preventing any single model from memorizing the training data."
      ],
      "metadata": {
        "id": "yL3cUeMOUgMu"
      }
    },
    {
      "cell_type": "markdown",
      "source": [
        "Answer to Q.No 17:\n",
        "\n",
        "Random Forest is better than a single Decision Tree because:\n",
        "\n",
        "Reduced Overfitting: It averages multiple trees, mitigating overfitting.\n",
        "Improved Accuracy: It reduces variance, leading to more robust predictions.\n",
        "Feature Importance: It provides insights into feature relevance.\n",
        "Handles High Dimensionality: Works well with many features.\n",
        "Robustness: Less sensitive to outliers and noise."
      ],
      "metadata": {
        "id": "3dKmJ-B0UoZ7"
      }
    },
    {
      "cell_type": "markdown",
      "source": [
        "Answer to Q.No 18:\n",
        "\n",
        "The role of bootstrap sampling in Bagging is to:\n",
        "\n",
        "Create diverse training subsets: By sampling with replacement, it generates multiple variations of the original dataset.\n",
        "Introduce randomness: This randomness ensures that each base model is trained on a slightly different view of the data.\n",
        "Reduce variance: The diversity of training sets helps to average out errors and prevent overfitting."
      ],
      "metadata": {
        "id": "NDoutWEdVYbt"
      }
    },
    {
      "cell_type": "markdown",
      "source": [
        "Answer to Q.No 19:\n",
        "\n",
        "Real-world applications of ensemble techniques include:\n",
        "\n",
        "Fraud Detection: Combining models to identify suspicious transactions.\n",
        "Medical Diagnosis: Improving accuracy in disease prediction from medical images or patient data.\n",
        "Image Recognition: Enhancing object detection and image classification.\n",
        "Financial Forecasting: Predicting stock prices or market trends.\n",
        "Recommendation Systems: Providing more accurate product or content recommendations.\n",
        "Natural Language Processing: Improving sentiment analysis or text classification.\n",
        "\n",
        "\n",
        "Weather Forecasting: Combining multiple models for more precise predictions.\n"
      ],
      "metadata": {
        "id": "FCu-Fz8zVeAh"
      }
    },
    {
      "cell_type": "markdown",
      "source": [
        "Answer to Q.No 20:\n",
        "\n",
        "The key differences between Bagging and Boosting are:\n",
        "\n",
        "Training:\n",
        "Bagging: Trains models independently and in parallel.\n",
        "Boosting: Trains models sequentially, where each model corrects the errors of the previous one.\n",
        "Focus:\n",
        "Bagging: Primarily aims to reduce variance, preventing overfitting.\n",
        "Boosting: Primarily aims to reduce bias, improving accuracy.\n",
        "Data Sampling:\n",
        "Bagging: Uses bootstrap sampling (random sampling with replacement).\n",
        "Boosting: Weights data points, giving more importance to misclassified ones.\n",
        "Model Weighting:\n",
        "Bagging: Typically weights all models equally.\n",
        "Boosting: Weights models based on their performance."
      ],
      "metadata": {
        "id": "QtN28MSMVwUI"
      }
    },
    {
      "cell_type": "markdown",
      "source": [
        "Answer to Q.No 21:"
      ],
      "metadata": {
        "id": "qXU2myQdV8bg"
      }
    },
    {
      "cell_type": "code",
      "source": [
        "from sklearn.datasets import load_iris\n",
        "from sklearn.model_selection import train_test_split\n",
        "from sklearn.ensemble import BaggingClassifier\n",
        "from sklearn.tree import DecisionTreeClassifier\n",
        "from sklearn.metrics import accuracy_score\n",
        "\n",
        "iris = load_iris()\n",
        "X, y = iris.data, iris.target\n",
        "X_train, X_test, y_train, y_test = train_test_split(X, y, test_size=0.3, random_state=42)\n",
        "bagging_clf = BaggingClassifier(DecisionTreeClassifier(), n_estimators=100, random_state=42)  # Corrected line\n",
        "bagging_clf.fit(X_train, y_train)\n",
        "y_pred = bagging_clf.predict(X_test)\n",
        "accuracy = accuracy_score(y_test, y_pred)\n",
        "print(f\"Bagging Classifier Accuracy: {accuracy:.4f}\")"
      ],
      "metadata": {
        "colab": {
          "base_uri": "https://localhost:8080/"
        },
        "id": "q8GspmsIW5tT",
        "outputId": "4ea062fb-c12a-4b19-93d6-a54f45e2e434"
      },
      "execution_count": 3,
      "outputs": [
        {
          "output_type": "stream",
          "name": "stdout",
          "text": [
            "Bagging Classifier Accuracy: 1.0000\n"
          ]
        }
      ]
    },
    {
      "cell_type": "markdown",
      "source": [
        "Answer to Q.No 22:"
      ],
      "metadata": {
        "id": "grag1ou_W9n9"
      }
    },
    {
      "cell_type": "code",
      "source": [
        "from sklearn.datasets import load_diabetes\n",
        "from sklearn.model_selection import train_test_split\n",
        "from sklearn.ensemble import BaggingRegressor\n",
        "from sklearn.tree import DecisionTreeRegressor\n",
        "from sklearn.metrics import mean_squared_error\n",
        "\n",
        "diabetes = load_diabetes()\n",
        "X, y = diabetes.data, diabetes.target\n",
        "X_train, X_test, y_train, y_test = train_test_split(X, y, test_size=0.3, random_state=42)\n",
        "bagging_regressor = BaggingRegressor(DecisionTreeRegressor(), n_estimators=100, random_state=42)\n",
        "bagging_regressor.fit(X_train, y_train)\n",
        "y_pred = bagging_regressor.predict(X_test)\n",
        "mse = mean_squared_error(y_test, y_pred)\n",
        "print(f\"Bagging Regressor MSE: {mse:.4f}\")"
      ],
      "metadata": {
        "colab": {
          "base_uri": "https://localhost:8080/"
        },
        "id": "FvjvK0_ZW_k-",
        "outputId": "94de9e05-62e8-4866-bfbb-9872d45a5bb6"
      },
      "execution_count": 4,
      "outputs": [
        {
          "output_type": "stream",
          "name": "stdout",
          "text": [
            "Bagging Regressor MSE: 2908.8062\n"
          ]
        }
      ]
    },
    {
      "cell_type": "markdown",
      "source": [
        "Answer to Q.No 23:"
      ],
      "metadata": {
        "id": "fidj5VZJYs8y"
      }
    },
    {
      "cell_type": "code",
      "source": [
        "from sklearn.datasets import load_breast_cancer\n",
        "from sklearn.model_selection import train_test_split\n",
        "from sklearn.ensemble import RandomForestClassifier\n",
        "\n",
        "data = load_breast_cancer()\n",
        "X, y = data.data, data.target\n",
        "X_train, X_test, y_train, y_test = train_test_split(X, y, test_size=0.3, random_state=42)\n",
        "rf_classifier = RandomForestClassifier(random_state=42)\n",
        "rf_classifier.fit(X_train, y_train)\n",
        "importances = rf_classifier.feature_importances_\n",
        "for i, importance in enumerate(importances):\n",
        "    print(f\"Feature {data.feature_names[i]}: {importance:.4f}\")"
      ],
      "metadata": {
        "colab": {
          "base_uri": "https://localhost:8080/"
        },
        "id": "GgpMYwSPYwyu",
        "outputId": "f0fbae86-51d7-40c6-c778-eb54ea59fec9"
      },
      "execution_count": 5,
      "outputs": [
        {
          "output_type": "stream",
          "name": "stdout",
          "text": [
            "Feature mean radius: 0.0323\n",
            "Feature mean texture: 0.0111\n",
            "Feature mean perimeter: 0.0601\n",
            "Feature mean area: 0.0538\n",
            "Feature mean smoothness: 0.0062\n",
            "Feature mean compactness: 0.0092\n",
            "Feature mean concavity: 0.0806\n",
            "Feature mean concave points: 0.1419\n",
            "Feature mean symmetry: 0.0033\n",
            "Feature mean fractal dimension: 0.0031\n",
            "Feature radius error: 0.0164\n",
            "Feature texture error: 0.0032\n",
            "Feature perimeter error: 0.0118\n",
            "Feature area error: 0.0295\n",
            "Feature smoothness error: 0.0059\n",
            "Feature compactness error: 0.0046\n",
            "Feature concavity error: 0.0058\n",
            "Feature concave points error: 0.0034\n",
            "Feature symmetry error: 0.0040\n",
            "Feature fractal dimension error: 0.0071\n",
            "Feature worst radius: 0.0780\n",
            "Feature worst texture: 0.0188\n",
            "Feature worst perimeter: 0.0743\n",
            "Feature worst area: 0.1182\n",
            "Feature worst smoothness: 0.0118\n",
            "Feature worst compactness: 0.0175\n",
            "Feature worst concavity: 0.0411\n",
            "Feature worst concave points: 0.1271\n",
            "Feature worst symmetry: 0.0129\n",
            "Feature worst fractal dimension: 0.0069\n"
          ]
        }
      ]
    },
    {
      "cell_type": "markdown",
      "source": [
        "Answer to Q.No 24:"
      ],
      "metadata": {
        "id": "S1WwWuU4Y2Ng"
      }
    },
    {
      "cell_type": "code",
      "source": [
        "from sklearn.datasets import load_diabetes\n",
        "from sklearn.model_selection import train_test_split\n",
        "from sklearn.ensemble import RandomForestRegressor\n",
        "from sklearn.tree import DecisionTreeRegressor\n",
        "from sklearn.metrics import mean_squared_error\n",
        "\n",
        "diabetes = load_diabetes()\n",
        "X, y = diabetes.data, diabetes.target\n",
        "X_train, X_test, y_train, y_test = train_test_split(X, y, test_size=0.3, random_state=42)\n",
        "\n",
        "rf_regressor = RandomForestRegressor(random_state=42)\n",
        "dt_regressor = DecisionTreeRegressor(random_state=42)\n",
        "\n",
        "rf_regressor.fit(X_train, y_train)\n",
        "dt_regressor.fit(X_train, y_train)\n",
        "\n",
        "rf_pred = rf_regressor.predict(X_test)\n",
        "dt_pred = dt_regressor.predict(X_test)\n",
        "\n",
        "rf_mse = mean_squared_error(y_test, rf_pred)\n",
        "dt_mse = mean_squared_error(y_test, dt_pred)\n",
        "\n",
        "print(f\"Random Forest MSE: {rf_mse:.4f}\")\n",
        "print(f\"Decision Tree MSE: {dt_mse:.4f}\")"
      ],
      "metadata": {
        "colab": {
          "base_uri": "https://localhost:8080/"
        },
        "id": "-1-fI4XxY4ns",
        "outputId": "5fa15004-cf09-4906-fc14-02e048bc6d62"
      },
      "execution_count": 6,
      "outputs": [
        {
          "output_type": "stream",
          "name": "stdout",
          "text": [
            "Random Forest MSE: 2859.6420\n",
            "Decision Tree MSE: 5697.7895\n"
          ]
        }
      ]
    },
    {
      "cell_type": "markdown",
      "source": [
        "Answer to Q.No 25:"
      ],
      "metadata": {
        "id": "aueL7MRpZCEl"
      }
    },
    {
      "cell_type": "code",
      "source": [
        "from sklearn.datasets import load_breast_cancer\n",
        "from sklearn.ensemble import RandomForestClassifier\n",
        "\n",
        "X, y = load_breast_cancer(return_X_y=True)\n",
        "\n",
        "rf_classifier = RandomForestClassifier(oob_score=True, random_state=42)\n",
        "rf_classifier.fit(X, y)\n",
        "\n",
        "oob_score = rf_classifier.oob_score_\n",
        "print(f\"OOB Score: {oob_score:.4f}\")"
      ],
      "metadata": {
        "colab": {
          "base_uri": "https://localhost:8080/"
        },
        "id": "ny7fTzn-ZFZl",
        "outputId": "7a1d1a2c-1944-4eca-900a-87daac45acef"
      },
      "execution_count": 7,
      "outputs": [
        {
          "output_type": "stream",
          "name": "stdout",
          "text": [
            "OOB Score: 0.9613\n"
          ]
        }
      ]
    },
    {
      "cell_type": "markdown",
      "source": [
        "Answer to Q.No 26:"
      ],
      "metadata": {
        "id": "1ry2venWZLqY"
      }
    },
    {
      "cell_type": "code",
      "source": [
        "from sklearn.datasets import load_breast_cancer\n",
        "from sklearn.model_selection import train_test_split\n",
        "from sklearn.svm import SVC\n",
        "from sklearn.ensemble import BaggingClassifier\n",
        "from sklearn.metrics import accuracy_score\n",
        "\n",
        "X, y = load_breast_cancer(return_X_y=True)\n",
        "X_train, X_test, y_train, y_test = train_test_split(X, y, test_size=0.3, random_state=42)\n",
        "\n",
        "bagging_clf = BaggingClassifier(SVC(), n_estimators=10, random_state=42)  # Corrected line\n",
        "bagging_clf.fit(X_train, y_train)\n",
        "\n",
        "y_pred = bagging_clf.predict(X_test)\n",
        "accuracy = accuracy_score(y_test, y_pred)\n",
        "print(f\"Accuracy: {accuracy:.4f}\")"
      ],
      "metadata": {
        "colab": {
          "base_uri": "https://localhost:8080/"
        },
        "id": "b0JIROAPZNeE",
        "outputId": "ce0f0647-7e7e-44dd-bebe-62f7d62b66be"
      },
      "execution_count": 9,
      "outputs": [
        {
          "output_type": "stream",
          "name": "stdout",
          "text": [
            "Accuracy: 0.9415\n"
          ]
        }
      ]
    },
    {
      "cell_type": "markdown",
      "source": [
        "Answer to Q.No 27:"
      ],
      "metadata": {
        "id": "xCXjRPaiZsn7"
      }
    },
    {
      "cell_type": "code",
      "source": [
        "from sklearn.datasets import load_breast_cancer\n",
        "from sklearn.model_selection import train_test_split\n",
        "from sklearn.ensemble import RandomForestClassifier\n",
        "from sklearn.metrics import accuracy_score\n",
        "\n",
        "X, y = load_breast_cancer(return_X_y=True)\n",
        "X_train, X_test, y_train, y_test = train_test_split(X, y, test_size=0.3, random_state=42)\n",
        "\n",
        "n_estimators_list = [10, 50, 100, 200]\n",
        "\n",
        "for n_estimators in n_estimators_list:\n",
        "    rf_classifier = RandomForestClassifier(n_estimators=n_estimators, random_state=42)\n",
        "    rf_classifier.fit(X_train, y_train)\n",
        "    y_pred = rf_classifier.predict(X_test)\n",
        "    accuracy = accuracy_score(y_test, y_pred)\n",
        "    print(f\"n_estimators={n_estimators}, Accuracy: {accuracy:.4f}\")"
      ],
      "metadata": {
        "colab": {
          "base_uri": "https://localhost:8080/"
        },
        "id": "S3Qaxp5OZw5M",
        "outputId": "542c5561-095b-45ef-c335-fa32da43226a"
      },
      "execution_count": 10,
      "outputs": [
        {
          "output_type": "stream",
          "name": "stdout",
          "text": [
            "n_estimators=10, Accuracy: 0.9649\n",
            "n_estimators=50, Accuracy: 0.9708\n",
            "n_estimators=100, Accuracy: 0.9708\n",
            "n_estimators=200, Accuracy: 0.9708\n"
          ]
        }
      ]
    },
    {
      "cell_type": "markdown",
      "source": [
        "Answer to Q.No 28:"
      ],
      "metadata": {
        "id": "u5QVRBjLZ1ev"
      }
    },
    {
      "cell_type": "code",
      "source": [
        "from sklearn.datasets import load_breast_cancer\n",
        "from sklearn.model_selection import train_test_split\n",
        "from sklearn.linear_model import LogisticRegression\n",
        "from sklearn.ensemble import BaggingClassifier\n",
        "from sklearn.metrics import roc_auc_score\n",
        "\n",
        "X, y = load_breast_cancer(return_X_y=True)\n",
        "X_train, X_test, y_train, y_test = train_test_split(X, y, test_size=0.3, random_state=42)\n",
        "\n",
        "bagging_clf = BaggingClassifier(LogisticRegression(solver='liblinear'), n_estimators=10, random_state=42)\n",
        "bagging_clf.fit(X_train, y_train)\n",
        "\n",
        "y_pred_proba = bagging_clf.predict_proba(X_test)[:, 1]\n",
        "auc = roc_auc_score(y_test, y_pred_proba)\n",
        "print(f\"AUC Score: {auc:.4f}\")"
      ],
      "metadata": {
        "colab": {
          "base_uri": "https://localhost:8080/"
        },
        "id": "rTyBFQcIZ3qp",
        "outputId": "f78549ed-ec62-4ac9-d559-f9fa75be3fcc"
      },
      "execution_count": 11,
      "outputs": [
        {
          "output_type": "stream",
          "name": "stdout",
          "text": [
            "AUC Score: 0.9978\n"
          ]
        }
      ]
    },
    {
      "cell_type": "markdown",
      "source": [
        "Answer to Q.No 29:"
      ],
      "metadata": {
        "id": "_W85Okt_Z-lb"
      }
    },
    {
      "cell_type": "code",
      "source": [
        "from sklearn.datasets import load_diabetes\n",
        "from sklearn.model_selection import train_test_split\n",
        "from sklearn.ensemble import RandomForestRegressor\n",
        "import matplotlib.pyplot as plt\n",
        "\n",
        "X, y = load_diabetes(return_X_y=True)\n",
        "X_train, X_test, y_train, y_test = train_test_split(X, y, test_size=0.3, random_state=42)\n",
        "\n",
        "rf_regressor = RandomForestRegressor(random_state=42)\n",
        "rf_regressor.fit(X_train, y_train)\n",
        "\n",
        "importances = rf_regressor.feature_importances_\n",
        "feature_names = load_diabetes().feature_names\n",
        "\n",
        "plt.figure(figsize=(10, 6))\n",
        "plt.bar(feature_names, importances)\n",
        "plt.xticks(rotation=45, ha=\"right\")\n",
        "plt.title(\"Feature Importance Scores\")\n",
        "plt.xlabel(\"Features\")\n",
        "plt.ylabel(\"Importance\")\n",
        "plt.tight_layout()\n",
        "plt.show()\n",
        "\n",
        "for i, importance in enumerate(importances):\n",
        "    print(f\"Feature {feature_names[i]}: {importance:.4f}\")"
      ],
      "metadata": {
        "colab": {
          "base_uri": "https://localhost:8080/",
          "height": 781
        },
        "id": "T65RNe7daAlO",
        "outputId": "7be6faa5-25da-4ad0-9150-572497bade62"
      },
      "execution_count": 12,
      "outputs": [
        {
          "output_type": "display_data",
          "data": {
            "text/plain": [
              "<Figure size 1000x600 with 1 Axes>"
            ],
            "image/png": "[encoded data removed]"
          },
          "metadata": {}
        },
        {
          "output_type": "stream",
          "name": "stdout",
          "text": [
            "Feature age: 0.0586\n",
            "Feature sex: 0.0111\n",
            "Feature bmi: 0.4000\n",
            "Feature bp: 0.1048\n",
            "Feature s1: 0.0492\n",
            "Feature s2: 0.0471\n",
            "Feature s3: 0.0617\n",
            "Feature s4: 0.0294\n",
            "Feature s5: 0.1666\n",
            "Feature s6: 0.0714\n"
          ]
        }
      ]
    },
    {
      "cell_type": "markdown",
      "source": [
        "Answer to Q.No 30:"
      ],
      "metadata": {
        "id": "nogwxfHkaYJi"
      }
    },
    {
      "cell_type": "code",
      "source": [
        "from sklearn.datasets import load_breast_cancer\n",
        "from sklearn.model_selection import train_test_split\n",
        "from sklearn.ensemble import BaggingClassifier, RandomForestClassifier\n",
        "from sklearn.tree import DecisionTreeClassifier\n",
        "from sklearn.metrics import accuracy_score\n",
        "\n",
        "X, y = load_breast_cancer(return_X_y=True)\n",
        "X_train, X_test, y_train, y_test = train_test_split(X, y, test_size=0.3, random_state=42)\n",
        "\n",
        "# Bagging Classifier with Decision Tree\n",
        "bagging_clf = BaggingClassifier(DecisionTreeClassifier(), n_estimators=100, random_state=42)\n",
        "bagging_clf.fit(X_train, y_train)\n",
        "bagging_pred = bagging_clf.predict(X_test)\n",
        "bagging_accuracy = accuracy_score(y_test, bagging_pred)\n",
        "\n",
        "# Random Forest Classifier\n",
        "rf_clf = RandomForestClassifier(n_estimators=100, random_state=42)\n",
        "rf_clf.fit(X_train, y_train)\n",
        "rf_pred = rf_clf.predict(X_test)\n",
        "rf_accuracy = accuracy_score(y_test, rf_pred)\n",
        "\n",
        "print(f\"Bagging Classifier Accuracy: {bagging_accuracy:.4f}\")\n",
        "print(f\"Random Forest Classifier Accuracy: {rf_accuracy:.4f}\")"
      ],
      "metadata": {
        "colab": {
          "base_uri": "https://localhost:8080/"
        },
        "id": "1Fci8mSqaLXe",
        "outputId": "fa9e8028-1688-4fe6-8a83-e6b0a775ad4a"
      },
      "execution_count": 13,
      "outputs": [
        {
          "output_type": "stream",
          "name": "stdout",
          "text": [
            "Bagging Classifier Accuracy: 0.9591\n",
            "Random Forest Classifier Accuracy: 0.9708\n"
          ]
        }
      ]
    },
    {
      "cell_type": "markdown",
      "source": [
        "Answer to Q.No 31:"
      ],
      "metadata": {
        "id": "JP_OuBokacda"
      }
    },
    {
      "cell_type": "code",
      "source": [
        "from sklearn.datasets import load_breast_cancer\n",
        "from sklearn.model_selection import train_test_split, GridSearchCV\n",
        "from sklearn.ensemble import RandomForestClassifier\n",
        "\n",
        "X, y = load_breast_cancer(return_X_y=True)\n",
        "X_train, X_test, y_train, y_test = train_test_split(X, y, test_size=0.3, random_state=42)\n",
        "\n",
        "param_grid = {\n",
        "    'n_estimators': [100, 200, 300],\n",
        "    'max_depth': [None, 5, 10],\n",
        "    'min_samples_split': [2, 5, 10]\n",
        "}\n",
        "\n",
        "rf_classifier = RandomForestClassifier(random_state=42)\n",
        "grid_search = GridSearchCV(estimator=rf_classifier, param_grid=param_grid, cv=5)\n",
        "grid_search.fit(X_train, y_train)\n",
        "\n",
        "print(f\"Best Parameters: {grid_search.best_params_}\")"
      ],
      "metadata": {
        "colab": {
          "base_uri": "https://localhost:8080/"
        },
        "id": "tW2ifEkUb5Zv",
        "outputId": "b590ca45-b364-4683-e032-100f8c6d7219"
      },
      "execution_count": 14,
      "outputs": [
        {
          "output_type": "stream",
          "name": "stdout",
          "text": [
            "Best Parameters: {'max_depth': None, 'min_samples_split': 2, 'n_estimators': 300}\n"
          ]
        }
      ]
    },
    {
      "cell_type": "markdown",
      "source": [
        "Answer to Q.No 32:"
      ],
      "metadata": {
        "id": "VH0UYB7XcMJd"
      }
    },
    {
      "cell_type": "code",
      "source": [
        "from sklearn.datasets import load_diabetes\n",
        "from sklearn.model_selection import train_test_split\n",
        "from sklearn.ensemble import BaggingRegressor\n",
        "from sklearn.tree import DecisionTreeRegressor\n",
        "from sklearn.metrics import mean_squared_error\n",
        "\n",
        "X, y = load_diabetes(return_X_y=True)\n",
        "X_train, X_test, y_train, y_test = train_test_split(X, y, test_size=0.3, random_state=42)\n",
        "\n",
        "n_estimators_list = [10, 50, 100, 200]\n",
        "\n",
        "for n_estimators in n_estimators_list:\n",
        "    bagging_regressor = BaggingRegressor(DecisionTreeRegressor(random_state=42), n_estimators=n_estimators, random_state=42)\n",
        "    bagging_regressor.fit(X_train, y_train)\n",
        "    y_pred = bagging_regressor.predict(X_test)\n",
        "    mse = mean_squared_error(y_test, y_pred)\n",
        "    print(f\"n_estimators={n_estimators}, MSE: {mse:.4f}\")"
      ],
      "metadata": {
        "colab": {
          "base_uri": "https://localhost:8080/"
        },
        "id": "BprasoTocNyj",
        "outputId": "6b84e15f-4fad-400a-f27d-3881c5e519cc"
      },
      "execution_count": 15,
      "outputs": [
        {
          "output_type": "stream",
          "name": "stdout",
          "text": [
            "n_estimators=10, MSE: 3237.5265\n",
            "n_estimators=50, MSE: 2987.0074\n",
            "n_estimators=100, MSE: 2908.8062\n",
            "n_estimators=200, MSE: 2854.8817\n"
          ]
        }
      ]
    },
    {
      "cell_type": "markdown",
      "source": [
        "Answer to Q.No 33:"
      ],
      "metadata": {
        "id": "uLMdKlRBceqP"
      }
    },
    {
      "cell_type": "code",
      "source": [
        "import pandas as pd\n",
        "from sklearn.datasets import load_breast_cancer\n",
        "from sklearn.model_selection import train_test_split\n",
        "from sklearn.ensemble import RandomForestClassifier\n",
        "\n",
        "data = load_breast_cancer()\n",
        "X, y = data.data, data.target\n",
        "feature_names = data.feature_names\n",
        "X_train, X_test, y_train, y_test = train_test_split(X, y, test_size=0.3, random_state=42)\n",
        "rf_classifier = RandomForestClassifier(random_state=42)\n",
        "rf_classifier.fit(X_train, y_train)\n",
        "y_pred = rf_classifier.predict(X_test)\n",
        "df = pd.DataFrame(X_test, columns=feature_names)\n",
        "df['Actual'] = y_test\n",
        "df['Predicted'] = y_pred\n",
        "misclassified_samples = df[df['Actual'] != df['Predicted']]\n",
        "print(misclassified_samples.head().to_markdown(index=False, numalign=\"left\", stralign=\"left\"))"
      ],
      "metadata": {
        "colab": {
          "base_uri": "https://localhost:8080/"
        },
        "id": "_d83C9yYcgYX",
        "outputId": "251a86c4-1390-425f-e985-3696c96d3db8"
      },
      "execution_count": 16,
      "outputs": [
        {
          "output_type": "stream",
          "name": "stdout",
          "text": [
            "| mean radius   | mean texture   | mean perimeter   | mean area   | mean smoothness   | mean compactness   | mean concavity   | mean concave points   | mean symmetry   | mean fractal dimension   | radius error   | texture error   | perimeter error   | area error   | smoothness error   | compactness error   | concavity error   | concave points error   | symmetry error   | fractal dimension error   | worst radius   | worst texture   | worst perimeter   | worst area   | worst smoothness   | worst compactness   | worst concavity   | worst concave points   | worst symmetry   | worst fractal dimension   | Actual   | Predicted   |\n",
            "|:--------------|:---------------|:-----------------|:------------|:------------------|:-------------------|:-----------------|:----------------------|:----------------|:-------------------------|:---------------|:----------------|:------------------|:-------------|:-------------------|:--------------------|:------------------|:-----------------------|:-----------------|:--------------------------|:---------------|:----------------|:------------------|:-------------|:-------------------|:--------------------|:------------------|:-----------------------|:-----------------|:--------------------------|:---------|:------------|\n",
            "| 13.34         | 15.86          | 86.49            | 520         | 0.1078            | 0.1535             | 0.1169           | 0.06987               | 0.1942          | 0.06902                  | 0.286          | 1.016           | 1.535             | 12.96        | 0.006794           | 0.03575             | 0.0398            | 0.01383                | 0.02134          | 0.004603                  | 15.53          | 23.19           | 96.66             | 614.9        | 0.1536             | 0.4791              | 0.4858            | 0.1708                 | 0.3527           | 0.1016                    | 1        | 0           |\n",
            "| 13.8          | 15.79          | 90.43            | 584.1       | 0.1007            | 0.128              | 0.07789          | 0.05069               | 0.1662          | 0.06566                  | 0.2787         | 0.6205          | 1.957             | 23.35        | 0.004717           | 0.02065             | 0.01759           | 0.009206               | 0.0122           | 0.00313                   | 16.57          | 20.86           | 110.3             | 812.4        | 0.1411             | 0.3542              | 0.2779            | 0.1383                 | 0.2589           | 0.103                     | 0        | 1           |\n",
            "| 13.96         | 17.05          | 91.43            | 602.4       | 0.1096            | 0.1279             | 0.09789          | 0.05246               | 0.1908          | 0.0613                   | 0.425          | 0.8098          | 2.563             | 35.74        | 0.006351           | 0.02679             | 0.03119           | 0.01342                | 0.02062          | 0.002695                  | 16.39          | 22.07           | 108.1             | 826          | 0.1512             | 0.3262              | 0.3209            | 0.1374                 | 0.3068           | 0.07957                   | 0        | 1           |\n",
            "| 14.48         | 21.46          | 94.25            | 648.2       | 0.09444           | 0.09947            | 0.1204           | 0.04938               | 0.2075          | 0.05636                  | 0.4204         | 2.22            | 3.301             | 38.87        | 0.009369           | 0.02983             | 0.05371           | 0.01761                | 0.02418          | 0.003249                  | 16.21          | 29.25           | 108.4             | 808.9        | 0.1306             | 0.1976              | 0.3349            | 0.1225                 | 0.302            | 0.06846                   | 0        | 1           |\n",
            "| 15.13         | 29.81          | 96.71            | 719.5       | 0.0832            | 0.04605            | 0.04686          | 0.02739               | 0.1852          | 0.05294                  | 0.4681         | 1.627           | 3.043             | 45.38        | 0.006831           | 0.01427             | 0.02489           | 0.009087               | 0.03151          | 0.00175                   | 17.26          | 36.91           | 110.1             | 931.4        | 0.1148             | 0.09866             | 0.1547            | 0.06575                | 0.3233           | 0.06165                   | 0        | 1           |\n"
          ]
        }
      ]
    },
    {
      "cell_type": "markdown",
      "source": [
        "Answer to Q.No 34:"
      ],
      "metadata": {
        "id": "3tBtB-92c-Ax"
      }
    },
    {
      "cell_type": "code",
      "source": [
        "from sklearn.datasets import load_breast_cancer\n",
        "from sklearn.model_selection import train_test_split\n",
        "from sklearn.ensemble import BaggingClassifier\n",
        "from sklearn.tree import DecisionTreeClassifier\n",
        "from sklearn.metrics import accuracy_score\n",
        "\n",
        "X, y = load_breast_cancer(return_X_y=True)\n",
        "X_train, X_test, y_train, y_test = train_test_split(X, y, test_size=0.3, random_state=42)\n",
        "\n",
        "bagging_clf = BaggingClassifier(DecisionTreeClassifier(random_state=42), n_estimators=100, random_state=42)\n",
        "dt_clf = DecisionTreeClassifier(random_state=42)\n",
        "\n",
        "bagging_clf.fit(X_train, y_train)\n",
        "dt_clf.fit(X_train, y_train)\n",
        "\n",
        "bagging_pred = bagging_clf.predict(X_test)\n",
        "dt_pred = dt_clf.predict(X_test)\n",
        "\n",
        "bagging_accuracy = accuracy_score(y_test, bagging_pred)\n",
        "dt_accuracy = accuracy_score(y_test, dt_pred)\n",
        "\n",
        "print(f\"Bagging Classifier Accuracy: {bagging_accuracy:.4f}\")\n",
        "print(f\"Decision Tree Classifier Accuracy: {dt_accuracy:.4f}\")"
      ],
      "metadata": {
        "colab": {
          "base_uri": "https://localhost:8080/"
        },
        "id": "u4Z7oALndFRT",
        "outputId": "400249fc-b63a-49ae-9407-aaf919db99d8"
      },
      "execution_count": 17,
      "outputs": [
        {
          "output_type": "stream",
          "name": "stdout",
          "text": [
            "Bagging Classifier Accuracy: 0.9591\n",
            "Decision Tree Classifier Accuracy: 0.9415\n"
          ]
        }
      ]
    },
    {
      "cell_type": "markdown",
      "source": [
        "Answer to Q.No 35:"
      ],
      "metadata": {
        "id": "g-YC38RddV6h"
      }
    },
    {
      "cell_type": "code",
      "source": [
        "import matplotlib.pyplot as plt\n",
        "from sklearn.datasets import load_breast_cancer\n",
        "from sklearn.model_selection import train_test_split\n",
        "from sklearn.ensemble import RandomForestClassifier\n",
        "from sklearn.metrics import confusion_matrix, ConfusionMatrixDisplay\n",
        "\n",
        "X, y = load_breast_cancer(return_X_y=True)\n",
        "X_train, X_test, y_train, y_test = train_test_split(X, y, test_size=0.3, random_state=42)\n",
        "\n",
        "rf_classifier = RandomForestClassifier(random_state=42)\n",
        "rf_classifier.fit(X_train, y_train)\n",
        "y_pred = rf_classifier.predict(X_test)\n",
        "\n",
        "cm = confusion_matrix(y_test, y_pred)\n",
        "disp = ConfusionMatrixDisplay(confusion_matrix=cm)\n",
        "disp.plot()\n",
        "plt.show()"
      ],
      "metadata": {
        "colab": {
          "base_uri": "https://localhost:8080/",
          "height": 449
        },
        "id": "C-vI-RpHdXeN",
        "outputId": "1ebe47c4-2cc3-462c-f612-4f4915416692"
      },
      "execution_count": 18,
      "outputs": [
        {
          "output_type": "display_data",
          "data": {
            "text/plain": [
              "<Figure size 640x480 with 2 Axes>"
            ],
            "image/png": "[encoded data removed]"
          },
          "metadata": {}
        }
      ]
    },
    {
      "cell_type": "code",
      "source": [
        "Answer to Q.No 36:"
      ],
      "metadata": {
        "id": "9LICfhZydecA"
      },
      "execution_count": null,
      "outputs": []
    },
    {
      "cell_type": "code",
      "source": [
        "from sklearn.datasets import load_breast_cancer\n",
        "from sklearn.model_selection import train_test_split\n",
        "from sklearn.ensemble import StackingClassifier\n",
        "from sklearn.tree import DecisionTreeClassifier\n",
        "from sklearn.svm import SVC\n",
        "from sklearn.linear_model import LogisticRegression\n",
        "from sklearn.metrics import accuracy_score\n",
        "\n",
        "X, y = load_breast_cancer(return_X_y=True)\n",
        "X_train, X_test, y_train, y_test = train_test_split(X, y, test_size=0.3, random_state=42)\n",
        "\n",
        "estimators = [\n",
        "    ('dt', DecisionTreeClassifier(random_state=42)),\n",
        "    ('svm', SVC(random_state=42)),\n",
        "    ('lr', LogisticRegression(solver='liblinear', random_state=42))\n",
        "]\n",
        "\n",
        "stacking_clf = StackingClassifier(estimators=estimators, final_estimator=LogisticRegression())\n",
        "stacking_clf.fit(X_train, y_train)\n",
        "\n",
        "y_pred = stacking_clf.predict(X_test)\n",
        "accuracy = accuracy_score(y_test, y_pred)\n",
        "\n",
        "print(f\"Stacking Classifier Accuracy: {accuracy:.4f}\")"
      ],
      "metadata": {
        "colab": {
          "base_uri": "https://localhost:8080/"
        },
        "id": "hMTeEwP3dgzK",
        "outputId": "99147dae-c48f-4075-bc74-f19e2eec9c03"
      },
      "execution_count": 19,
      "outputs": [
        {
          "output_type": "stream",
          "name": "stdout",
          "text": [
            "Stacking Classifier Accuracy: 0.9766\n"
          ]
        }
      ]
    },
    {
      "cell_type": "markdown",
      "source": [
        "Answer to Q.No 37:"
      ],
      "metadata": {
        "id": "ar80X7YLdse3"
      }
    },
    {
      "cell_type": "code",
      "source": [
        "import pandas as pd\n",
        "from sklearn.datasets import load_breast_cancer\n",
        "from sklearn.model_selection import train_test_split\n",
        "from sklearn.ensemble import RandomForestClassifier\n",
        "\n",
        "data = load_breast_cancer()\n",
        "X, y = data.data, data.target\n",
        "feature_names = data.feature_names\n",
        "\n",
        "X_train, X_test, y_train, y_test = train_test_split(X, y, test_size=0.3, random_state=42)\n",
        "\n",
        "rf_classifier = RandomForestClassifier(random_state=42)\n",
        "rf_classifier.fit(X_train, y_train)\n",
        "\n",
        "importances = rf_classifier.feature_importances_\n",
        "\n",
        "df_importances = pd.DataFrame({'Feature': feature_names, 'Importance': importances})\n",
        "\n",
        "top_5_features = df_importances.sort_values(by='Importance', ascending=False).head(5)\n",
        "print(top_5_features.to_markdown(index=False, numalign=\"left\", stralign=\"left\"))"
      ],
      "metadata": {
        "colab": {
          "base_uri": "https://localhost:8080/"
        },
        "id": "e0Q77pICdwGR",
        "outputId": "b8da9b09-76e4-4958-d159-dec1d645179e"
      },
      "execution_count": 20,
      "outputs": [
        {
          "output_type": "stream",
          "name": "stdout",
          "text": [
            "| Feature              | Importance   |\n",
            "|:---------------------|:-------------|\n",
            "| mean concave points  | 0.141934     |\n",
            "| worst concave points | 0.127136     |\n",
            "| worst area           | 0.118217     |\n",
            "| mean concavity       | 0.080557     |\n",
            "| worst radius         | 0.0779747    |\n"
          ]
        }
      ]
    },
    {
      "cell_type": "markdown",
      "source": [
        "Answer to Q.No 38:"
      ],
      "metadata": {
        "id": "ovzOJ4ryd6CO"
      }
    },
    {
      "cell_type": "code",
      "source": [
        "from sklearn.datasets import load_breast_cancer\n",
        "from sklearn.model_selection import train_test_split\n",
        "from sklearn.ensemble import BaggingClassifier\n",
        "from sklearn.tree import DecisionTreeClassifier\n",
        "from sklearn.metrics import accuracy_score, precision_score, recall_score, f1_score\n",
        "\n",
        "X, y = load_breast_cancer(return_X_y=True)\n",
        "X_train, X_test, y_train, y_test = train_test_split(X, y, test_size=0.3, random_state=42)\n",
        "\n",
        "bagging_clf = BaggingClassifier(DecisionTreeClassifier(random_state=42), n_estimators=100, random_state=42)\n",
        "bagging_clf.fit(X_train, y_train)\n",
        "\n",
        "y_pred = bagging_clf.predict(X_test)\n",
        "\n",
        "accuracy = accuracy_score(y_test, y_pred)\n",
        "precision = precision_score(y_test, y_pred)\n",
        "recall = recall_score(y_test, y_pred)\n",
        "f1 = f1_score(y_test, y_pred)\n",
        "\n",
        "print(f\"Accuracy: {accuracy:.4f}\")\n",
        "print(f\"Precision: {precision:.4f}\")\n",
        "print(f\"Recall: {recall:.4f}\")\n",
        "print(f\"F1-score: {f1:.4f}\")"
      ],
      "metadata": {
        "colab": {
          "base_uri": "https://localhost:8080/"
        },
        "id": "rmu4T_Nwd8wj",
        "outputId": "cfcea153-d890-42b5-8082-89f9a92cb293"
      },
      "execution_count": 21,
      "outputs": [
        {
          "output_type": "stream",
          "name": "stdout",
          "text": [
            "Accuracy: 0.9591\n",
            "Precision: 0.9633\n",
            "Recall: 0.9722\n",
            "F1-score: 0.9677\n"
          ]
        }
      ]
    },
    {
      "cell_type": "markdown",
      "source": [
        "Answer to Q.No 39:"
      ],
      "metadata": {
        "id": "dkIMeipVeCpa"
      }
    },
    {
      "cell_type": "code",
      "source": [
        "from sklearn.datasets import load_breast_cancer\n",
        "from sklearn.model_selection import train_test_split\n",
        "from sklearn.ensemble import RandomForestClassifier\n",
        "from sklearn.metrics import accuracy_score\n",
        "import matplotlib.pyplot as plt\n",
        "\n",
        "X, y = load_breast_cancer(return_X_y=True)\n",
        "X_train, X_test, y_train, y_test = train_test_split(X, y, test_size=0.3, random_state=42)\n",
        "\n",
        "max_depth_values = range(1, 21)\n",
        "accuracy_scores = []\n",
        "\n",
        "for max_depth in max_depth_values:\n",
        "    rf_classifier = RandomForestClassifier(max_depth=max_depth, random_state=42)\n",
        "    rf_classifier.fit(X_train, y_train)\n",
        "    y_pred = rf_classifier.predict(X_test)\n",
        "    accuracy = accuracy_score(y_test, y_pred)\n",
        "    accuracy_scores.append(accuracy)\n",
        "\n",
        "plt.plot(max_depth_values, accuracy_scores)\n",
        "plt.xlabel(\"Max Depth\")\n",
        "plt.ylabel(\"Accuracy\")\n",
        "plt.title(\"Effect of Max Depth on Accuracy\")\n",
        "plt.show()"
      ],
      "metadata": {
        "colab": {
          "base_uri": "https://localhost:8080/",
          "height": 472
        },
        "id": "93RJq1BBeFaK",
        "outputId": "15d6948f-c897-4d85-c914-4c36be5fb35c"
      },
      "execution_count": 23,
      "outputs": [
        {
          "output_type": "display_data",
          "data": {
            "text/plain": [
              "<Figure size 640x480 with 1 Axes>"
            ],
            "image/png": "[encoded data removed]"
          },
          "metadata": {}
        }
      ]
    },
    {
      "cell_type": "markdown",
      "source": [
        "Answer to Q.No 40:"
      ],
      "metadata": {
        "id": "VNRApcVUeY_D"
      }
    },
    {
      "cell_type": "code",
      "source": [
        "from sklearn.datasets import load_diabetes\n",
        "from sklearn.model_selection import train_test_split\n",
        "from sklearn.ensemble import BaggingRegressor\n",
        "from sklearn.tree import DecisionTreeRegressor\n",
        "from sklearn.neighbors import KNeighborsRegressor\n",
        "from sklearn.metrics import mean_squared_error\n",
        "\n",
        "X, y = load_diabetes(return_X_y=True)\n",
        "X_train, X_test, y_train, y_test = train_test_split(X, y, test_size=0.3, random_state=42)\n",
        "\n",
        "bagging_dt = BaggingRegressor(DecisionTreeRegressor(random_state=42), n_estimators=100, random_state=42)\n",
        "bagging_dt.fit(X_train, y_train)\n",
        "y_pred_dt = bagging_dt.predict(X_test)\n",
        "mse_dt = mean_squared_error(y_test, y_pred_dt)\n",
        "\n",
        "bagging_knn = BaggingRegressor(KNeighborsRegressor(), n_estimators=100, random_state=42)\n",
        "bagging_knn.fit(X_train, y_train)\n",
        "y_pred_knn = bagging_knn.predict(X_test)\n",
        "mse_knn = mean_squared_error(y_test, y_pred_knn)\n",
        "\n",
        "print(f\"Decision Tree MSE: {mse_dt:.4f}\")\n",
        "print(f\"KNeighbors MSE: {mse_knn:.4f}\")"
      ],
      "metadata": {
        "colab": {
          "base_uri": "https://localhost:8080/"
        },
        "id": "8B1PVVJKea99",
        "outputId": "1c1a0a2d-44ae-466a-8a91-ebb7367f80fd"
      },
      "execution_count": 24,
      "outputs": [
        {
          "output_type": "stream",
          "name": "stdout",
          "text": [
            "Decision Tree MSE: 2908.8062\n",
            "KNeighbors MSE: 3188.7382\n"
          ]
        }
      ]
    },
    {
      "cell_type": "markdown",
      "source": [
        "Answer to Q.No 41:"
      ],
      "metadata": {
        "id": "ZYvf04Icekpd"
      }
    },
    {
      "cell_type": "code",
      "source": [
        "from sklearn.datasets import load_breast_cancer\n",
        "from sklearn.model_selection import train_test_split\n",
        "from sklearn.ensemble import RandomForestClassifier\n",
        "from sklearn.metrics import roc_auc_score\n",
        "\n",
        "X, y = load_breast_cancer(return_X_y=True)\n",
        "X_train, X_test, y_train, y_test = train_test_split(X, y, test_size=0.3, random_state=42)\n",
        "\n",
        "rf_classifier = RandomForestClassifier(random_state=42)\n",
        "rf_classifier.fit(X_train, y_train)\n",
        "\n",
        "y_pred_proba = rf_classifier.predict_proba(X_test)[:, 1]\n",
        "roc_auc = roc_auc_score(y_test, y_pred_proba)\n",
        "\n",
        "print(f\"ROC-AUC Score: {roc_auc:.4f}\")"
      ],
      "metadata": {
        "colab": {
          "base_uri": "https://localhost:8080/"
        },
        "id": "rtZ7a1pwemHJ",
        "outputId": "c54e2e3d-d94c-4bf4-8056-d8d58d5979b1"
      },
      "execution_count": 25,
      "outputs": [
        {
          "output_type": "stream",
          "name": "stdout",
          "text": [
            "ROC-AUC Score: 0.9968\n"
          ]
        }
      ]
    },
    {
      "cell_type": "markdown",
      "source": [
        "Answer to Q.No 42:"
      ],
      "metadata": {
        "id": "0qvfLk-He0Vm"
      }
    },
    {
      "cell_type": "code",
      "source": [
        "from sklearn.datasets import load_breast_cancer\n",
        "from sklearn.model_selection import cross_val_score\n",
        "from sklearn.ensemble import BaggingClassifier\n",
        "from sklearn.tree import DecisionTreeClassifier\n",
        "\n",
        "X, y = load_breast_cancer(return_X_y=True)\n",
        "\n",
        "bagging_clf = BaggingClassifier(DecisionTreeClassifier(random_state=42), n_estimators=100, random_state=42)\n",
        "\n",
        "scores = cross_val_score(bagging_clf, X, y, cv=5)\n",
        "\n",
        "print(f\"Cross-validation scores: {scores}\")\n",
        "print(f\"Mean accuracy: {scores.mean():.4f}\")"
      ],
      "metadata": {
        "colab": {
          "base_uri": "https://localhost:8080/"
        },
        "id": "jX1MOv3Oe2bE",
        "outputId": "8f18d69b-6f42-4322-858e-ea1738fdf6d0"
      },
      "execution_count": 26,
      "outputs": [
        {
          "output_type": "stream",
          "name": "stdout",
          "text": [
            "Cross-validation scores: [0.89473684 0.93859649 0.99122807 0.96491228 1.        ]\n",
            "Mean accuracy: 0.9579\n"
          ]
        }
      ]
    },
    {
      "cell_type": "markdown",
      "source": [
        "Answer to Q.No 43:"
      ],
      "metadata": {
        "id": "mmttFKlze8AG"
      }
    },
    {
      "cell_type": "code",
      "source": [
        "import matplotlib.pyplot as plt\n",
        "from sklearn.datasets import load_breast_cancer\n",
        "from sklearn.model_selection import train_test_split\n",
        "from sklearn.ensemble import RandomForestClassifier\n",
        "from sklearn.metrics import precision_recall_curve, auc\n",
        "\n",
        "X, y = load_breast_cancer(return_X_y=True)\n",
        "X_train, X_test, y_train, y_test = train_test_split(X, y, test_size=0.3, random_state=42)\n",
        "\n",
        "rf_classifier = RandomForestClassifier(random_state=42)\n",
        "rf_classifier.fit(X_train, y_train)\n",
        "\n",
        "y_pred_proba = rf_classifier.predict_proba(X_test)[:, 1]\n",
        "precision, recall, thresholds = precision_recall_curve(y_test, y_pred_proba)\n",
        "auc_score = auc(recall, precision)\n",
        "\n",
        "plt.plot(recall, precision, label=f'AUC = {auc_score:.2f}')\n",
        "plt.xlabel('Recall')\n",
        "plt.ylabel('Precision')\n",
        "plt.title('Precision-Recall Curve')\n",
        "plt.legend(loc='lower left')\n",
        "plt.show()"
      ],
      "metadata": {
        "colab": {
          "base_uri": "https://localhost:8080/",
          "height": 472
        },
        "id": "TTytKOaYe-D2",
        "outputId": "7ae22f3e-ec0f-4599-b27a-3762bf495182"
      },
      "execution_count": 27,
      "outputs": [
        {
          "output_type": "display_data",
          "data": {
            "text/plain": [
              "<Figure size 640x480 with 1 Axes>"
            ],
            "image/png": "[encoded data removed]"
          },
          "metadata": {}
        }
      ]
    },
    {
      "cell_type": "markdown",
      "source": [
        "Answer to Q.No 44:"
      ],
      "metadata": {
        "id": "UkkQS61LfEpO"
      }
    },
    {
      "cell_type": "code",
      "source": [
        "from sklearn.datasets import load_breast_cancer\n",
        "from sklearn.model_selection import train_test_split\n",
        "from sklearn.ensemble import StackingClassifier, RandomForestClassifier\n",
        "from sklearn.linear_model import LogisticRegression\n",
        "from sklearn.metrics import accuracy_score\n",
        "\n",
        "X, y = load_breast_cancer(return_X_y=True)\n",
        "X_train, X_test, y_train, y_test = train_test_split(X, y, test_size=0.3, random_state=42)\n",
        "\n",
        "rf_classifier = RandomForestClassifier(random_state=42)\n",
        "rf_classifier.fit(X_train, y_train)\n",
        "rf_pred = rf_classifier.predict(X_test)\n",
        "rf_accuracy = accuracy_score(y_test, rf_pred)\n",
        "\n",
        "estimators = [('rf', RandomForestClassifier(random_state=42))]\n",
        "stacking_clf = StackingClassifier(estimators=estimators, final_estimator=LogisticRegression())\n",
        "stacking_clf.fit(X_train, y_train)\n",
        "stacking_pred = stacking_clf.predict(X_test)\n",
        "stacking_accuracy = accuracy_score(y_test, stacking_pred)\n",
        "\n",
        "print(f\"Random Forest Accuracy: {rf_accuracy:.4f}\")\n",
        "print(f\"Stacking Classifier Accuracy: {stacking_accuracy:.4f}\")"
      ],
      "metadata": {
        "colab": {
          "base_uri": "https://localhost:8080/"
        },
        "id": "-9cyK4vdfGjt",
        "outputId": "7085bd94-3e7e-4dde-fd6b-e82404724200"
      },
      "execution_count": 28,
      "outputs": [
        {
          "output_type": "stream",
          "name": "stdout",
          "text": [
            "Random Forest Accuracy: 0.9708\n",
            "Stacking Classifier Accuracy: 0.9708\n"
          ]
        }
      ]
    },
    {
      "cell_type": "markdown",
      "source": [
        "Answer to Q.No 45:"
      ],
      "metadata": {
        "id": "56LYxr2afOHY"
      }
    },
    {
      "cell_type": "code",
      "source": [
        "from sklearn.datasets import load_diabetes\n",
        "from sklearn.model_selection import train_test_split\n",
        "from sklearn.ensemble import BaggingRegressor\n",
        "from sklearn.tree import DecisionTreeRegressor\n",
        "from sklearn.metrics import mean_squared_error\n",
        "\n",
        "X, y = load_diabetes(return_X_y=True)\n",
        "X_train, X_test, y_train, y_test = train_test_split(X, y, test_size=0.3, random_state=42)\n",
        "\n",
        "bootstrap_sizes = [0.5, 0.7, 1.0]\n",
        "\n",
        "for bootstrap_size in bootstrap_sizes:\n",
        "    bagging_regressor = BaggingRegressor(DecisionTreeRegressor(random_state=42),\n",
        "                                        n_estimators=100,\n",
        "                                        random_state=42,\n",
        "                                        bootstrap_features=False,\n",
        "                                        max_samples=bootstrap_size)\n",
        "    bagging_regressor.fit(X_train, y_train)\n",
        "    y_pred = bagging_regressor.predict(X_test)\n",
        "    mse = mean_squared_error(y_test, y_pred)\n",
        "    print(f\"Bootstrap Size={bootstrap_size}, MSE: {mse:.4f}\")"
      ],
      "metadata": {
        "colab": {
          "base_uri": "https://localhost:8080/"
        },
        "id": "443ntnPnfTLp",
        "outputId": "a65d5e56-1228-46ce-88db-d60e9eebce22"
      },
      "execution_count": 30,
      "outputs": [
        {
          "output_type": "stream",
          "name": "stdout",
          "text": [
            "Bootstrap Size=0.5, MSE: 2748.3134\n",
            "Bootstrap Size=0.7, MSE: 2768.2709\n",
            "Bootstrap Size=1.0, MSE: 2908.8062\n"
          ]
        }
      ]
    }
  ]
}