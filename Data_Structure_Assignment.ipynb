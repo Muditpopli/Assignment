{
  "nbformat": 4,
  "nbformat_minor": 0,
  "metadata": {
    "colab": {
      "provenance": []
    },
    "kernelspec": {
      "name": "python3",
      "display_name": "Python 3"
    },
    "language_info": {
      "name": "python"
    }
  },
  "cells": [
    {
      "cell_type": "markdown",
      "source": [
        "Answer To Q.No.1: String Slicing:\n",
        "\n",
        "String slicing in python is a way to extract a specific part of a string.\n",
        "For example:"
      ],
      "metadata": {
        "id": "ac5kdp45-LJ3"
      }
    },
    {
      "cell_type": "code",
      "source": [
        "print(\"pwskills\")"
      ],
      "metadata": {
        "colab": {
          "base_uri": "https://localhost:8080/"
        },
        "id": "2XyhdIBgbR5L",
        "outputId": "fae75f43-d313-44b0-8cf0-5ed09eac5cf4"
      },
      "execution_count": null,
      "outputs": [
        {
          "output_type": "stream",
          "name": "stdout",
          "text": [
            "pwskills\n"
          ]
        }
      ]
    },
    {
      "cell_type": "markdown",
      "source": [],
      "metadata": {
        "id": "VyP3E11oZkFC"
      }
    },
    {
      "cell_type": "code",
      "source": [
        "type(\"pwskills\")"
      ],
      "metadata": {
        "colab": {
          "base_uri": "https://localhost:8080/"
        },
        "id": "XiFVTQ-Ubkje",
        "outputId": "9d516694-8d7e-48e9-e9b9-3a9c6428e37f"
      },
      "execution_count": null,
      "outputs": [
        {
          "output_type": "execute_result",
          "data": {
            "text/plain": [
              "str"
            ]
          },
          "metadata": {},
          "execution_count": 2
        }
      ]
    },
    {
      "cell_type": "code",
      "source": [
        "string=\"pwskills\"\n",
        "string[0:5]"
      ],
      "metadata": {
        "colab": {
          "base_uri": "https://localhost:8080/",
          "height": 36
        },
        "id": "XHal08SKbnoG",
        "outputId": "45440f6b-65dc-4a39-9c50-bfdd69311765"
      },
      "execution_count": null,
      "outputs": [
        {
          "output_type": "execute_result",
          "data": {
            "text/plain": [
              "'pwski'"
            ],
            "application/vnd.google.colaboratory.intrinsic+json": {
              "type": "string"
            }
          },
          "metadata": {},
          "execution_count": 4
        }
      ]
    },
    {
      "cell_type": "code",
      "source": [
        "string[-5:]"
      ],
      "metadata": {
        "colab": {
          "base_uri": "https://localhost:8080/",
          "height": 36
        },
        "id": "_SNLD4nTbrv2",
        "outputId": "32b19f13-4ca6-45a3-8466-c8b9fd8d68d2"
      },
      "execution_count": null,
      "outputs": [
        {
          "output_type": "execute_result",
          "data": {
            "text/plain": [
              "'kills'"
            ],
            "application/vnd.google.colaboratory.intrinsic+json": {
              "type": "string"
            }
          },
          "metadata": {},
          "execution_count": 5
        }
      ]
    },
    {
      "cell_type": "code",
      "source": [],
      "metadata": {
        "id": "tQn2QJThb_xV"
      },
      "execution_count": null,
      "outputs": []
    },
    {
      "cell_type": "markdown",
      "source": [
        "Answer to Q.No.2:\n",
        "\n",
        "Lists in python are ordered collection of few elements in python.\n",
        "Features of List:\n",
        "\n",
        "1. They are ordered in a sequence.\n",
        "2. They are mutable in nature.\n",
        "3. They are indexed\n",
        "4. They can be sliced\n",
        "5. They can be iterated over loops.\n"
      ],
      "metadata": {
        "id": "RkGSHjqYcC6U"
      }
    },
    {
      "cell_type": "markdown",
      "source": [
        "Answer to Q. No:3\n",
        "\n",
        "Here is a way to access an element from a list"
      ],
      "metadata": {
        "id": "okVOJC9HmaXj"
      }
    },
    {
      "cell_type": "code",
      "source": [
        "list = [10,20,30,40]"
      ],
      "metadata": {
        "id": "ZJ6HGiHUmhbp"
      },
      "execution_count": null,
      "outputs": []
    },
    {
      "cell_type": "code",
      "source": [
        "list[0]"
      ],
      "metadata": {
        "colab": {
          "base_uri": "https://localhost:8080/"
        },
        "id": "jlq3kLOSmkJj",
        "outputId": "7468ece6-fa5f-418b-c016-7d7066a6765d"
      },
      "execution_count": null,
      "outputs": [
        {
          "output_type": "execute_result",
          "data": {
            "text/plain": [
              "10"
            ]
          },
          "metadata": {},
          "execution_count": 7
        }
      ]
    },
    {
      "cell_type": "code",
      "source": [
        "list[-1]"
      ],
      "metadata": {
        "colab": {
          "base_uri": "https://localhost:8080/"
        },
        "id": "L0TBW6Kemmgb",
        "outputId": "1b6dd640-b192-4958-e1a3-8f6f71a7ab67"
      },
      "execution_count": null,
      "outputs": [
        {
          "output_type": "execute_result",
          "data": {
            "text/plain": [
              "40"
            ]
          },
          "metadata": {},
          "execution_count": 8
        }
      ]
    },
    {
      "cell_type": "code",
      "source": [],
      "metadata": {
        "id": "PTFPKolcmoXC"
      },
      "execution_count": null,
      "outputs": []
    },
    {
      "cell_type": "markdown",
      "source": [
        "Modify list:\n"
      ],
      "metadata": {
        "id": "dhp2WraimsU5"
      }
    },
    {
      "cell_type": "code",
      "source": [
        "list = [10,20,30,40]\n",
        "list"
      ],
      "metadata": {
        "colab": {
          "base_uri": "https://localhost:8080/"
        },
        "id": "yFJQ4UcFmuTP",
        "outputId": "4fce8330-d6f9-4a42-ea41-6340ba02fbd1"
      },
      "execution_count": null,
      "outputs": [
        {
          "output_type": "execute_result",
          "data": {
            "text/plain": [
              "[10, 20, 30, 40]"
            ]
          },
          "metadata": {},
          "execution_count": 12
        }
      ]
    },
    {
      "cell_type": "code",
      "source": [
        "list[0]=5"
      ],
      "metadata": {
        "id": "nWBaqvGHmz1_"
      },
      "execution_count": null,
      "outputs": []
    },
    {
      "cell_type": "code",
      "source": [
        "list"
      ],
      "metadata": {
        "colab": {
          "base_uri": "https://localhost:8080/"
        },
        "id": "Tm0PMwH0m0iH",
        "outputId": "24f98400-3616-469e-996a-b3d7bf4435f9"
      },
      "execution_count": null,
      "outputs": [
        {
          "output_type": "execute_result",
          "data": {
            "text/plain": [
              "[5, 20, 30, 40]"
            ]
          },
          "metadata": {},
          "execution_count": 14
        }
      ]
    },
    {
      "cell_type": "code",
      "source": [],
      "metadata": {
        "id": "bXCISFFHm6qD"
      },
      "execution_count": null,
      "outputs": []
    },
    {
      "cell_type": "markdown",
      "source": [
        "Delete elements from a list"
      ],
      "metadata": {
        "id": "md3OTdqzm9wc"
      }
    },
    {
      "cell_type": "code",
      "source": [
        "list"
      ],
      "metadata": {
        "colab": {
          "base_uri": "https://localhost:8080/"
        },
        "id": "smWDJBL0m_eO",
        "outputId": "944cf6f0-784c-4be9-f840-b5318e9528c6"
      },
      "execution_count": null,
      "outputs": [
        {
          "output_type": "execute_result",
          "data": {
            "text/plain": [
              "[5, 20, 30, 40]"
            ]
          },
          "metadata": {},
          "execution_count": 15
        }
      ]
    },
    {
      "cell_type": "code",
      "source": [
        "del list[0]"
      ],
      "metadata": {
        "id": "JSjsOmEinAm7"
      },
      "execution_count": null,
      "outputs": []
    },
    {
      "cell_type": "code",
      "source": [
        "list"
      ],
      "metadata": {
        "colab": {
          "base_uri": "https://localhost:8080/"
        },
        "id": "StN-byqXnFcE",
        "outputId": "017587db-8a43-429f-8ba6-3e42465a2b53"
      },
      "execution_count": null,
      "outputs": [
        {
          "output_type": "execute_result",
          "data": {
            "text/plain": [
              "[20, 30, 40]"
            ]
          },
          "metadata": {},
          "execution_count": 18
        }
      ]
    },
    {
      "cell_type": "code",
      "source": [],
      "metadata": {
        "id": "B8HuvPGWnQWM"
      },
      "execution_count": null,
      "outputs": []
    },
    {
      "cell_type": "markdown",
      "source": [
        "Answer to Q.No.4:\n",
        "\n",
        "Comparison between Tuples and List\n",
        "\n",
        "Tuples:\n",
        "\n",
        "Use Case : Elements can't be changed once created/Immutable\n",
        "Paranthesis used : ()\n",
        "\n",
        "\n",
        "\n",
        "List:\n",
        "\n",
        "Use Case: Elements can be changed once created/Mutable\n",
        "Paranthesis Used : []"
      ],
      "metadata": {
        "id": "skGsIVGenW-q"
      }
    },
    {
      "cell_type": "markdown",
      "source": [
        "Example of Tuples:\n"
      ],
      "metadata": {
        "id": "oeCnWY6Snb7O"
      }
    },
    {
      "cell_type": "code",
      "source": [
        "point =(2,3) #example of tuples"
      ],
      "metadata": {
        "id": "czjAl5KNoNjA"
      },
      "execution_count": null,
      "outputs": []
    },
    {
      "cell_type": "code",
      "source": [
        "point"
      ],
      "metadata": {
        "colab": {
          "base_uri": "https://localhost:8080/"
        },
        "id": "21pH61AMoQTn",
        "outputId": "321d8a16-40f3-44fb-cd76-c0ad60dd23ca"
      },
      "execution_count": null,
      "outputs": [
        {
          "output_type": "execute_result",
          "data": {
            "text/plain": [
              "(2, 3)"
            ]
          },
          "metadata": {},
          "execution_count": 21
        }
      ]
    },
    {
      "cell_type": "code",
      "source": [
        "type(point)"
      ],
      "metadata": {
        "colab": {
          "base_uri": "https://localhost:8080/"
        },
        "id": "6ZQrdlFGobEO",
        "outputId": "ccd64cb2-62d6-4306-8bcb-1ec04aee76fc"
      },
      "execution_count": null,
      "outputs": [
        {
          "output_type": "execute_result",
          "data": {
            "text/plain": [
              "tuple"
            ]
          },
          "metadata": {},
          "execution_count": 23
        }
      ]
    },
    {
      "cell_type": "markdown",
      "source": [
        "Example of List:"
      ],
      "metadata": {
        "id": "o_Kf9_eKod88"
      }
    },
    {
      "cell_type": "code",
      "source": [
        "list=[\"Onion\",\"Tomato\",\"Potato\"]"
      ],
      "metadata": {
        "id": "tuZ2QCdsollA"
      },
      "execution_count": null,
      "outputs": []
    },
    {
      "cell_type": "code",
      "source": [
        "type(list)"
      ],
      "metadata": {
        "colab": {
          "base_uri": "https://localhost:8080/"
        },
        "id": "ODBlBBwEoop-",
        "outputId": "db664f64-e041-46ba-a40c-6196332f27f7"
      },
      "execution_count": null,
      "outputs": [
        {
          "output_type": "execute_result",
          "data": {
            "text/plain": [
              "list"
            ]
          },
          "metadata": {},
          "execution_count": 25
        }
      ]
    },
    {
      "cell_type": "markdown",
      "source": [
        "Answer to Q.No. 5:\n",
        "\n",
        "Sets:\n",
        "Sets are unordered collection of unique elements.\n",
        "Here under sets, there is no concept of indexing as sets are unordered.\n",
        "However, Sets are mutable in nature.\n",
        "\n",
        "Use Case of Sets:\n",
        "\n",
        "1. It enables to remove duplicates in the data set.\n",
        "2. Enables to perform set operations.\n",
        "\n",
        "Example of Sets:\n"
      ],
      "metadata": {
        "id": "saH4UeDNoqNQ"
      }
    },
    {
      "cell_type": "code",
      "source": [
        "s={\"onion\",\"tomato\",\"capsicum\"}\n",
        "s"
      ],
      "metadata": {
        "id": "GE68pyDFpfUb",
        "colab": {
          "base_uri": "https://localhost:8080/"
        },
        "outputId": "fd7a6884-c71b-4a04-cda3-efddce8fb09b"
      },
      "execution_count": 29,
      "outputs": [
        {
          "output_type": "execute_result",
          "data": {
            "text/plain": [
              "{'capsicum', 'onion', 'tomato'}"
            ]
          },
          "metadata": {},
          "execution_count": 29
        }
      ]
    },
    {
      "cell_type": "code",
      "source": [
        "type(s)"
      ],
      "metadata": {
        "colab": {
          "base_uri": "https://localhost:8080/"
        },
        "id": "zBv-OGGbpqoy",
        "outputId": "fbd0cad1-9e37-4f9a-e19d-5345d59bb0bb"
      },
      "execution_count": 30,
      "outputs": [
        {
          "output_type": "execute_result",
          "data": {
            "text/plain": [
              "set"
            ]
          },
          "metadata": {},
          "execution_count": 30
        }
      ]
    },
    {
      "cell_type": "markdown",
      "source": [
        "Answer to Q.No 6:\n",
        "\n",
        "Use cases of Tuples:\n",
        "\n",
        "1. Used for storing data types.\n",
        "2. Storing Immutable data i.e, data once entered can't be altered.\n",
        "\n",
        "Use cases of Sets:\n",
        "\n",
        "1. Used for storing data types.\n",
        "2. Performing set operations\n",
        "3. Removes duplicate data entry."
      ],
      "metadata": {
        "id": "d1dNhtw5psAH"
      }
    },
    {
      "cell_type": "markdown",
      "source": [
        "Answer to Q.No.7:\n",
        "\n",
        "Dictionary is a data structure that stores data as key value pair\n",
        "Keys are immutable and unique in nature.\n",
        "For example:\n"
      ],
      "metadata": {
        "id": "TPTduAMdtGXp"
      }
    },
    {
      "cell_type": "code",
      "source": [
        "d = {\"name\":\"Mudit\",\"email\":\"mp@gmail;.com\"}\n",
        "d"
      ],
      "metadata": {
        "colab": {
          "base_uri": "https://localhost:8080/"
        },
        "id": "5Tm3GjB0tZHF",
        "outputId": "74d6de33-8603-4442-9e60-b0f2bf769eed"
      },
      "execution_count": 43,
      "outputs": [
        {
          "output_type": "execute_result",
          "data": {
            "text/plain": [
              "{'name': 'Mudit', 'email': 'mp@gmail;.com'}"
            ]
          },
          "metadata": {},
          "execution_count": 43
        }
      ]
    },
    {
      "cell_type": "code",
      "source": [
        "type(d)"
      ],
      "metadata": {
        "colab": {
          "base_uri": "https://localhost:8080/"
        },
        "id": "vUpjZ1TDtlO6",
        "outputId": "2ba24319-8e72-4ddd-957d-20b85eebd11f"
      },
      "execution_count": 44,
      "outputs": [
        {
          "output_type": "execute_result",
          "data": {
            "text/plain": [
              "dict"
            ]
          },
          "metadata": {},
          "execution_count": 44
        }
      ]
    },
    {
      "cell_type": "markdown",
      "source": [
        "Adding a value to dictionary"
      ],
      "metadata": {
        "id": "4SnfUXectmkT"
      }
    },
    {
      "cell_type": "code",
      "source": [
        "d = {\"name\":\"Mudit\",\"email\":\"mp@gmail;.com\"}\n",
        "d"
      ],
      "metadata": {
        "colab": {
          "base_uri": "https://localhost:8080/"
        },
        "id": "Ipn8vWdsuXx3",
        "outputId": "248d1f4c-0793-424c-972e-e82604960f18"
      },
      "execution_count": 45,
      "outputs": [
        {
          "output_type": "execute_result",
          "data": {
            "text/plain": [
              "{'name': 'Mudit', 'email': 'mp@gmail;.com'}"
            ]
          },
          "metadata": {},
          "execution_count": 45
        }
      ]
    },
    {
      "cell_type": "code",
      "source": [
        "d.update({\"age\":27})"
      ],
      "metadata": {
        "id": "0mmQno23ulZi"
      },
      "execution_count": 46,
      "outputs": []
    },
    {
      "cell_type": "code",
      "source": [
        "d"
      ],
      "metadata": {
        "colab": {
          "base_uri": "https://localhost:8080/"
        },
        "id": "KW2Ps3vCuuwK",
        "outputId": "3f26669c-4efa-4f03-8f19-70fb5bf8688a"
      },
      "execution_count": 47,
      "outputs": [
        {
          "output_type": "execute_result",
          "data": {
            "text/plain": [
              "{'name': 'Mudit', 'email': 'mp@gmail;.com', 'age': 27}"
            ]
          },
          "metadata": {},
          "execution_count": 47
        }
      ]
    },
    {
      "cell_type": "markdown",
      "source": [
        "Deleting an item from Dictionary\n"
      ],
      "metadata": {
        "id": "vMdI-W5Iuvk-"
      }
    },
    {
      "cell_type": "code",
      "source": [
        "del d[\"age\"]"
      ],
      "metadata": {
        "id": "MGlOramYu9iw"
      },
      "execution_count": 41,
      "outputs": []
    },
    {
      "cell_type": "code",
      "source": [
        "d"
      ],
      "metadata": {
        "colab": {
          "base_uri": "https://localhost:8080/"
        },
        "id": "fPTLNhDGvJEZ",
        "outputId": "4114fe2d-6f14-49ac-eacb-03fbb6a2fbac"
      },
      "execution_count": 48,
      "outputs": [
        {
          "output_type": "execute_result",
          "data": {
            "text/plain": [
              "{'name': 'Mudit', 'email': 'mp@gmail;.com', 'age': 27}"
            ]
          },
          "metadata": {},
          "execution_count": 48
        }
      ]
    },
    {
      "cell_type": "markdown",
      "source": [
        "We can also use pop function:\n"
      ],
      "metadata": {
        "id": "Ir09nNvWvJ0U"
      }
    },
    {
      "cell_type": "code",
      "source": [
        "d.pop(\"name\")"
      ],
      "metadata": {
        "colab": {
          "base_uri": "https://localhost:8080/",
          "height": 36
        },
        "id": "qRX1PdofvkCr",
        "outputId": "2732f242-c124-43f0-d6c4-bdb4cdef5623"
      },
      "execution_count": 49,
      "outputs": [
        {
          "output_type": "execute_result",
          "data": {
            "text/plain": [
              "'Mudit'"
            ],
            "application/vnd.google.colaboratory.intrinsic+json": {
              "type": "string"
            }
          },
          "metadata": {},
          "execution_count": 49
        }
      ]
    },
    {
      "cell_type": "code",
      "source": [
        "d"
      ],
      "metadata": {
        "colab": {
          "base_uri": "https://localhost:8080/"
        },
        "id": "5msgWHBMvm4n",
        "outputId": "f90813f6-66a1-464f-cf18-463450f43c16"
      },
      "execution_count": 50,
      "outputs": [
        {
          "output_type": "execute_result",
          "data": {
            "text/plain": [
              "{'email': 'mp@gmail;.com', 'age': 27}"
            ]
          },
          "metadata": {},
          "execution_count": 50
        }
      ]
    },
    {
      "cell_type": "markdown",
      "source": [
        "Answer to Q.8:\n",
        "\n",
        "Importance of dictionary keys being immutable:\n",
        "\n",
        "Keys of dictionary must be immutable so to ensure consistency of data to ensure predictable nature of nature\n",
        "\n",
        "For example: \"Name\" key will ensure that only name as a value will be entered to a \"name\" key.\n",
        "\n",
        "\"email\" key will ensure that only email adress will be entered as a value to \"email\" key"
      ],
      "metadata": {
        "id": "h2x0y7RrvnpB"
      }
    }
  ]
}