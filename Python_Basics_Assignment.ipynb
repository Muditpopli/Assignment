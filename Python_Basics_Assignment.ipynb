{
  "nbformat": 4,
  "nbformat_minor": 0,
  "metadata": {
    "colab": {
      "provenance": []
    },
    "kernelspec": {
      "name": "python3",
      "display_name": "Python 3"
    },
    "language_info": {
      "name": "python"
    }
  },
  "cells": [
    {
      "cell_type": "markdown",
      "source": [
        "Answer to Q.No. 1\n",
        "Python is a programing language whhich has salient features i.e;\n",
        "\n",
        "1. Widely used across the industry and there is a strong community which makes regular updates for the purpose of welfare of user.\n",
        "\n",
        "2. Availability of large library for the use case of its users makes it a popular choice amongst the users of this programing language.\n",
        "\n",
        "3. Easy to understand for a beginners. Even new users can understand and use this programing language."
      ],
      "metadata": {
        "id": "T9B1oHYHblJy"
      }
    },
    {
      "cell_type": "markdown",
      "source": [],
      "metadata": {
        "id": "xbazJ2UPd0LT"
      }
    },
    {
      "cell_type": "markdown",
      "source": [
        "Answer to Q No. 2:\n",
        "\n",
        "Pre Defined Keywords:\n",
        "\n",
        "Pre Defined keywords are the terms that have a specific use case and meaning in the language. It is important to note that pre defined keywords cant be used as variable in the language.\n",
        "\n",
        "They play a significant role in proper structuring of the code to executed by a user.\n",
        "\n",
        "Below are some of examples of pre defined keywords:\n",
        "\n",
        "1. \"True\" : A boolean that represents true value.\n",
        "2. \"False\" : A boolean that represents false value.\n",
        "3. \"Break\" : To discontinue a loop before its all iterations are completed.\n",
        "4. \"Continue\" : To skip a particular iteration that a user mentions in the code.\n"
      ],
      "metadata": {
        "id": "7iObmcPmd2NG"
      }
    },
    {
      "cell_type": "markdown",
      "source": [],
      "metadata": {
        "id": "Mw_3G5yUh9Tn"
      }
    },
    {
      "cell_type": "markdown",
      "source": [
        "Answer to Q No. 3: Mutable and Immutable objects:\n",
        "\n",
        "Mutability is a concept in which data type or content or its content could be changed once it created. It can be also termed as data assignment.\n",
        "\n",
        "For Example:\n",
        "\n"
      ],
      "metadata": {
        "id": "N3_Lf63Yh9kA"
      }
    },
    {
      "cell_type": "code",
      "source": [
        "list_cont = [1,5,7,9.1,\"mudit\"]\n",
        "list_cont"
      ],
      "metadata": {
        "colab": {
          "base_uri": "https://localhost:8080/"
        },
        "id": "h0V83gJSnUGd",
        "outputId": "c1e167d7-c807-42e1-9890-71c15be09375"
      },
      "execution_count": 1,
      "outputs": [
        {
          "output_type": "execute_result",
          "data": {
            "text/plain": [
              "[1, 5, 7, 9.1, 'mudit']"
            ]
          },
          "metadata": {},
          "execution_count": 1
        }
      ]
    },
    {
      "cell_type": "code",
      "source": [
        "list_cont[3]"
      ],
      "metadata": {
        "colab": {
          "base_uri": "https://localhost:8080/"
        },
        "id": "sCMvQxBSnz0q",
        "outputId": "79ed20d6-8e5e-48d1-a6f8-2c66896f3760"
      },
      "execution_count": 3,
      "outputs": [
        {
          "output_type": "execute_result",
          "data": {
            "text/plain": [
              "9.1"
            ]
          },
          "metadata": {},
          "execution_count": 3
        }
      ]
    },
    {
      "cell_type": "code",
      "source": [
        "list_cont[3] = 10"
      ],
      "metadata": {
        "id": "4s5b4gatn508"
      },
      "execution_count": 4,
      "outputs": []
    },
    {
      "cell_type": "code",
      "source": [
        "list_cont"
      ],
      "metadata": {
        "colab": {
          "base_uri": "https://localhost:8080/"
        },
        "id": "bf3cG6IIoHTp",
        "outputId": "bab96d68-6f34-4bde-d337-8e2d4a6c04fe"
      },
      "execution_count": 5,
      "outputs": [
        {
          "output_type": "execute_result",
          "data": {
            "text/plain": [
              "[1, 5, 7, 10, 'mudit']"
            ]
          },
          "metadata": {},
          "execution_count": 5
        }
      ]
    },
    {
      "cell_type": "markdown",
      "source": [],
      "metadata": {
        "id": "FnTBo_proO7D"
      }
    },
    {
      "cell_type": "markdown",
      "source": [
        "Immutability:\n",
        "\n",
        "Objects or state of a data containers which cant be changed post its creation is known  to be the concept of immutability.\n",
        "String is a data type of immutability.\n",
        "For Example:"
      ],
      "metadata": {
        "id": "vZpl1EjWoPuN"
      }
    },
    {
      "cell_type": "code",
      "source": [
        "a = \"pwskills\"\n",
        "a"
      ],
      "metadata": {
        "colab": {
          "base_uri": "https://localhost:8080/",
          "height": 36
        },
        "id": "PBt4pLqKzhEp",
        "outputId": "e27d4b12-075e-44f7-8918-5fab84d59382"
      },
      "execution_count": 8,
      "outputs": [
        {
          "output_type": "execute_result",
          "data": {
            "text/plain": [
              "'pwskills'"
            ],
            "application/vnd.google.colaboratory.intrinsic+json": {
              "type": "string"
            }
          },
          "metadata": {},
          "execution_count": 8
        }
      ]
    },
    {
      "cell_type": "code",
      "source": [
        "a[0]"
      ],
      "metadata": {
        "colab": {
          "base_uri": "https://localhost:8080/",
          "height": 36
        },
        "id": "CAkHppugznL_",
        "outputId": "4b7d041e-c277-4c9a-8731-7466750916bb"
      },
      "execution_count": 9,
      "outputs": [
        {
          "output_type": "execute_result",
          "data": {
            "text/plain": [
              "'p'"
            ],
            "application/vnd.google.colaboratory.intrinsic+json": {
              "type": "string"
            }
          },
          "metadata": {},
          "execution_count": 9
        }
      ]
    },
    {
      "cell_type": "code",
      "source": [
        "a[0] = \"k\"\n",
        "#string is a immutable object"
      ],
      "metadata": {
        "colab": {
          "base_uri": "https://localhost:8080/",
          "height": 141
        },
        "id": "Ah6C1TmvzpSv",
        "outputId": "2fd77402-06b5-47f2-aed2-74f2603163d9"
      },
      "execution_count": 10,
      "outputs": [
        {
          "output_type": "error",
          "ename": "TypeError",
          "evalue": "'str' object does not support item assignment",
          "traceback": [
            "\u001b[0;31m---------------------------------------------------------------------------\u001b[0m",
            "\u001b[0;31mTypeError\u001b[0m                                 Traceback (most recent call last)",
            "\u001b[0;32m<ipython-input-10-b24318f97696>\u001b[0m in \u001b[0;36m<cell line: 1>\u001b[0;34m()\u001b[0m\n\u001b[0;32m----> 1\u001b[0;31m \u001b[0ma\u001b[0m\u001b[0;34m[\u001b[0m\u001b[0;36m0\u001b[0m\u001b[0;34m]\u001b[0m \u001b[0;34m=\u001b[0m \u001b[0;34m\"k\"\u001b[0m\u001b[0;34m\u001b[0m\u001b[0;34m\u001b[0m\u001b[0m\n\u001b[0m",
            "\u001b[0;31mTypeError\u001b[0m: 'str' object does not support item assignment"
          ]
        }
      ]
    },
    {
      "cell_type": "markdown",
      "source": [],
      "metadata": {
        "id": "qlhVeoZE0BNg"
      }
    },
    {
      "cell_type": "markdown",
      "source": [
        "Answer to Q. No. 4 : Types of operators in Python:\n",
        "\n",
        "Operators are special keywords to perform operations so that data could be computed and managed effectively. There are various types of operators i.e;"
      ],
      "metadata": {
        "id": "oRR6oPll0Bdo"
      }
    },
    {
      "cell_type": "markdown",
      "source": [
        "1. Arithematic Operator:\n",
        "\n",
        "These operators are used to make  mathematical operations. For example.\n"
      ],
      "metadata": {
        "id": "11rVN_hya3Ld"
      }
    },
    {
      "cell_type": "code",
      "source": [
        "a=2\n",
        "b=3\n",
        "a*b"
      ],
      "metadata": {
        "colab": {
          "base_uri": "https://localhost:8080/"
        },
        "id": "OAlDCRBTbPWL",
        "outputId": "74351751-a007-470f-af83-74c0f41f2bf4"
      },
      "execution_count": 1,
      "outputs": [
        {
          "output_type": "execute_result",
          "data": {
            "text/plain": [
              "6"
            ]
          },
          "metadata": {},
          "execution_count": 1
        }
      ]
    },
    {
      "cell_type": "markdown",
      "source": [
        "2. Modulus Operator:\n",
        "\n",
        "Modulus operator displays the remainder once a number is divided by another. For example:"
      ],
      "metadata": {
        "id": "JRWT_8X2bfR3"
      }
    },
    {
      "cell_type": "code",
      "source": [
        "21 % 4"
      ],
      "metadata": {
        "colab": {
          "base_uri": "https://localhost:8080/"
        },
        "id": "gjfmw-1xbqkR",
        "outputId": "1382e9b5-d620-4330-8b43-6c382b94d08d"
      },
      "execution_count": 2,
      "outputs": [
        {
          "output_type": "execute_result",
          "data": {
            "text/plain": [
              "1"
            ]
          },
          "metadata": {},
          "execution_count": 2
        }
      ]
    },
    {
      "cell_type": "markdown",
      "source": [
        "3. Comparison Operator:\n",
        "\n",
        "It compares two values or two variables. For example:"
      ],
      "metadata": {
        "id": "6dDbmJeabuxG"
      }
    },
    {
      "cell_type": "code",
      "source": [
        "5==5"
      ],
      "metadata": {
        "colab": {
          "base_uri": "https://localhost:8080/"
        },
        "id": "HCwVV1zrcJV5",
        "outputId": "8f4b6974-7e6b-4124-8bc9-5ac11c9103ff"
      },
      "execution_count": 3,
      "outputs": [
        {
          "output_type": "execute_result",
          "data": {
            "text/plain": [
              "True"
            ]
          },
          "metadata": {},
          "execution_count": 3
        }
      ]
    },
    {
      "cell_type": "code",
      "source": [
        "5>3"
      ],
      "metadata": {
        "colab": {
          "base_uri": "https://localhost:8080/"
        },
        "id": "QsmDuMoVcK4T",
        "outputId": "eeff4439-afbd-4205-a2fd-9311920e71f6"
      },
      "execution_count": 4,
      "outputs": [
        {
          "output_type": "execute_result",
          "data": {
            "text/plain": [
              "True"
            ]
          },
          "metadata": {},
          "execution_count": 4
        }
      ]
    },
    {
      "cell_type": "markdown",
      "source": [
        "4. Floor Operator:\n",
        "\n",
        "It is a mathematical function that rounds off the number to nearest integer. For Example:\n"
      ],
      "metadata": {
        "id": "Yipy-XC5cQN0"
      }
    },
    {
      "cell_type": "code",
      "source": [
        "4//3"
      ],
      "metadata": {
        "colab": {
          "base_uri": "https://localhost:8080/"
        },
        "id": "fiG9ZFdJdIMA",
        "outputId": "5744f05e-51cc-456a-a371-c6270347987c"
      },
      "execution_count": 5,
      "outputs": [
        {
          "output_type": "execute_result",
          "data": {
            "text/plain": [
              "1"
            ]
          },
          "metadata": {},
          "execution_count": 5
        }
      ]
    },
    {
      "cell_type": "markdown",
      "source": [
        "5. Assignment Operator:\n",
        "\n",
        "Under assignment operator, a certain value is asaigned to a particular variable.\n",
        "For example:"
      ],
      "metadata": {
        "id": "hSznoFvVeJor"
      }
    },
    {
      "cell_type": "code",
      "source": [
        "a=5\n",
        "a+5"
      ],
      "metadata": {
        "colab": {
          "base_uri": "https://localhost:8080/"
        },
        "id": "CFs5itF9esOr",
        "outputId": "0a06433a-5d76-40ed-992c-c3b8d41e420d"
      },
      "execution_count": 8,
      "outputs": [
        {
          "output_type": "execute_result",
          "data": {
            "text/plain": [
              "10"
            ]
          },
          "metadata": {},
          "execution_count": 8
        }
      ]
    },
    {
      "cell_type": "markdown",
      "source": [
        "6. Membership Operator:\n",
        "\n",
        "Membership operator is used to check that whether a value exists in a list or not.\n",
        "For example:"
      ],
      "metadata": {
        "id": "wuSyu4_Aex50"
      }
    },
    {
      "cell_type": "code",
      "source": [
        "a= \"pwskills\"\n",
        "\"p\" in a"
      ],
      "metadata": {
        "colab": {
          "base_uri": "https://localhost:8080/"
        },
        "id": "6qlGndNogDid",
        "outputId": "a33836d9-4388-4885-9b2f-87644d208623"
      },
      "execution_count": 9,
      "outputs": [
        {
          "output_type": "execute_result",
          "data": {
            "text/plain": [
              "True"
            ]
          },
          "metadata": {},
          "execution_count": 9
        }
      ]
    },
    {
      "cell_type": "code",
      "source": [
        "\"p\" not in a"
      ],
      "metadata": {
        "colab": {
          "base_uri": "https://localhost:8080/"
        },
        "id": "ZpF3VRa2gIoj",
        "outputId": "7711e298-c6b6-476b-a83b-0895c9b9d571"
      },
      "execution_count": 10,
      "outputs": [
        {
          "output_type": "execute_result",
          "data": {
            "text/plain": [
              "False"
            ]
          },
          "metadata": {},
          "execution_count": 10
        }
      ]
    },
    {
      "cell_type": "markdown",
      "source": [
        "7. Identity Operator:\n",
        "\n",
        "Identity Function is used to check that whether two variables are same.\n",
        "For  Example:"
      ],
      "metadata": {
        "id": "g84WP2Whgj49"
      }
    },
    {
      "cell_type": "code",
      "source": [
        "a=2\n",
        "b=3\n",
        "a is b"
      ],
      "metadata": {
        "colab": {
          "base_uri": "https://localhost:8080/"
        },
        "id": "_QtBj_wlgmgr",
        "outputId": "86e3d126-8eb2-456e-f24a-f02bd0d565dc"
      },
      "execution_count": 11,
      "outputs": [
        {
          "output_type": "execute_result",
          "data": {
            "text/plain": [
              "False"
            ]
          },
          "metadata": {},
          "execution_count": 11
        }
      ]
    },
    {
      "cell_type": "code",
      "source": [
        "a is not b"
      ],
      "metadata": {
        "colab": {
          "base_uri": "https://localhost:8080/"
        },
        "id": "fdew7eFbhK1q",
        "outputId": "fefbb05a-1842-4d92-d54d-9e3765779eac"
      },
      "execution_count": 12,
      "outputs": [
        {
          "output_type": "execute_result",
          "data": {
            "text/plain": [
              "True"
            ]
          },
          "metadata": {},
          "execution_count": 12
        }
      ]
    },
    {
      "cell_type": "markdown",
      "source": [
        "Answer to Q. No 5:\n",
        "Typecasting:\n",
        "\n",
        "Typecasting in python means changing the data type of a value/object.\n",
        "For example converting integer in float and vice versa etc.\n"
      ],
      "metadata": {
        "id": "d50toY6VhYSz"
      }
    },
    {
      "cell_type": "code",
      "source": [
        "a = \"2\"\n",
        "b = 3\n",
        "a+b\n",
        "#as we cant add a string to an integer"
      ],
      "metadata": {
        "colab": {
          "base_uri": "https://localhost:8080/",
          "height": 176
        },
        "id": "TlJl0H2uiAGR",
        "outputId": "f8925e9c-7ae8-41a5-f273-bfd3b54957ff"
      },
      "execution_count": 13,
      "outputs": [
        {
          "output_type": "error",
          "ename": "TypeError",
          "evalue": "can only concatenate str (not \"int\") to str",
          "traceback": [
            "\u001b[0;31m---------------------------------------------------------------------------\u001b[0m",
            "\u001b[0;31mTypeError\u001b[0m                                 Traceback (most recent call last)",
            "\u001b[0;32m<ipython-input-13-a5d6af5e8d1a>\u001b[0m in \u001b[0;36m<cell line: 3>\u001b[0;34m()\u001b[0m\n\u001b[1;32m      1\u001b[0m \u001b[0ma\u001b[0m \u001b[0;34m=\u001b[0m \u001b[0;34m\"2\"\u001b[0m\u001b[0;34m\u001b[0m\u001b[0;34m\u001b[0m\u001b[0m\n\u001b[1;32m      2\u001b[0m \u001b[0mb\u001b[0m \u001b[0;34m=\u001b[0m \u001b[0;36m3\u001b[0m\u001b[0;34m\u001b[0m\u001b[0;34m\u001b[0m\u001b[0m\n\u001b[0;32m----> 3\u001b[0;31m \u001b[0ma\u001b[0m\u001b[0;34m+\u001b[0m\u001b[0mb\u001b[0m\u001b[0;34m\u001b[0m\u001b[0;34m\u001b[0m\u001b[0m\n\u001b[0m",
            "\u001b[0;31mTypeError\u001b[0m: can only concatenate str (not \"int\") to str"
          ]
        }
      ]
    },
    {
      "cell_type": "code",
      "source": [
        "int(a)+b"
      ],
      "metadata": {
        "colab": {
          "base_uri": "https://localhost:8080/"
        },
        "id": "GIMP1kynh97w",
        "outputId": "75ad166e-10f8-49a4-8006-d561bb8779cd"
      },
      "execution_count": 14,
      "outputs": [
        {
          "output_type": "execute_result",
          "data": {
            "text/plain": [
              "5"
            ]
          },
          "metadata": {},
          "execution_count": 14
        }
      ]
    },
    {
      "cell_type": "code",
      "source": [
        "#integer to float\n",
        "a=2\n",
        "a = float(a)\n",
        "a"
      ],
      "metadata": {
        "colab": {
          "base_uri": "https://localhost:8080/"
        },
        "id": "y83oxG5giTbX",
        "outputId": "207d6c85-6e84-47b3-f2c7-63ed4888e236"
      },
      "execution_count": 16,
      "outputs": [
        {
          "output_type": "execute_result",
          "data": {
            "text/plain": [
              "2.0"
            ]
          },
          "metadata": {},
          "execution_count": 16
        }
      ]
    },
    {
      "cell_type": "markdown",
      "source": [
        "Answer to Q. No. 6:\n",
        "\n",
        "Conditionals:\n",
        "Conditional code will be executed if the pre conditions mentioned are fulfilled else not.\n",
        "\n",
        "There are three types of conditional statements:\n",
        "\n",
        "a. if statements\n",
        "b. else if statements\n",
        "c. elif statements"
      ],
      "metadata": {
        "id": "2Pc-jf_1jOgn"
      }
    },
    {
      "cell_type": "code",
      "source": [
        "a = 100\n",
        "if a>0 : #execute the code, if the condition is true:\n",
        "  print(\"The number is greater than 0\")"
      ],
      "metadata": {
        "colab": {
          "base_uri": "https://localhost:8080/"
        },
        "id": "uhIlTlZOk2p-",
        "outputId": "11aca699-de6e-490f-d3d8-2bd9df60b138"
      },
      "execution_count": 17,
      "outputs": [
        {
          "output_type": "stream",
          "name": "stdout",
          "text": [
            "The number is greater than 0\n"
          ]
        }
      ]
    },
    {
      "cell_type": "code",
      "source": [
        "#if else statements\n",
        "weather = \"sunny\"\n",
        "if weather == \"sunny\":\n",
        "  print(\"I will play cricket\")\n",
        "else:\n",
        "  print(\"I will watch TV\")"
      ],
      "metadata": {
        "colab": {
          "base_uri": "https://localhost:8080/"
        },
        "id": "eeQeO2zAlLSM",
        "outputId": "abdad613-5314-4756-8e6e-783062aba1aa"
      },
      "execution_count": 19,
      "outputs": [
        {
          "output_type": "stream",
          "name": "stdout",
          "text": [
            "I will play cricket\n"
          ]
        }
      ]
    },
    {
      "cell_type": "code",
      "source": [
        "#if else statements\n",
        "weather = \"rainy\"\n",
        "if weather == \"sunny\":\n",
        "  print(\"I will play cricket\")\n",
        "else:\n",
        "  print(\"I will watch TV\")"
      ],
      "metadata": {
        "colab": {
          "base_uri": "https://localhost:8080/"
        },
        "id": "wcB6LcpElxnr",
        "outputId": "99e8f0f6-7649-47ad-e6c1-4b45936e40ed"
      },
      "execution_count": 20,
      "outputs": [
        {
          "output_type": "stream",
          "name": "stdout",
          "text": [
            "I will watch TV\n"
          ]
        }
      ]
    },
    {
      "cell_type": "markdown",
      "source": [
        "Elif Statements:\n",
        "\n",
        "Elif Statements are used in the code if we have to put multiple pre conditions in the code.\n",
        "For example:"
      ],
      "metadata": {
        "id": "G9igIXcPl5Dx"
      }
    },
    {
      "cell_type": "code",
      "source": [
        "age = 27\n",
        "if age >= 18:\n",
        "  print(\"Adult\")\n",
        "elif  18<age<= 60:\n",
        "    print(\"Senior Citizen\")\n",
        "else:\n",
        "  print(\"Minor\")"
      ],
      "metadata": {
        "colab": {
          "base_uri": "https://localhost:8080/"
        },
        "id": "hLV1KEs_mZ4R",
        "outputId": "840690cc-42ac-4c17-86ae-2632641360e2"
      },
      "execution_count": 28,
      "outputs": [
        {
          "output_type": "stream",
          "name": "stdout",
          "text": [
            "Adult\n"
          ]
        }
      ]
    },
    {
      "cell_type": "markdown",
      "source": [
        "Answer to Q. No. 7:\n",
        "\n",
        "Loops:\n",
        "\n",
        "It allows to execute the code repeatedly.\n",
        "Loops are of two types i.e;\n",
        "\n",
        "a. While loops\n",
        "b. For Loops"
      ],
      "metadata": {
        "id": "fPOdPuCnnr5R"
      }
    },
    {
      "cell_type": "code",
      "source": [
        "#while loop\n",
        "n=7\n",
        "i=1\n",
        "while i<n:\n",
        "  print(i)\n",
        "  i=i+1"
      ],
      "metadata": {
        "colab": {
          "base_uri": "https://localhost:8080/"
        },
        "id": "OOmHbEvXvs-X",
        "outputId": "07e0f080-dc31-4c7c-cafd-91fcb9ee9307"
      },
      "execution_count": 30,
      "outputs": [
        {
          "output_type": "stream",
          "name": "stdout",
          "text": [
            "1\n",
            "2\n",
            "3\n",
            "4\n",
            "5\n",
            "6\n"
          ]
        }
      ]
    },
    {
      "cell_type": "code",
      "source": [
        "#for loop\n",
        "for i in \"pwskills\":\n",
        "  print(i)"
      ],
      "metadata": {
        "colab": {
          "base_uri": "https://localhost:8080/"
        },
        "id": "exlIuXYOwAKT",
        "outputId": "7f0aa4bb-84f8-4669-ad52-dab5a7207595"
      },
      "execution_count": 33,
      "outputs": [
        {
          "output_type": "stream",
          "name": "stdout",
          "text": [
            "p\n",
            "w\n",
            "s\n",
            "k\n",
            "i\n",
            "l\n",
            "l\n",
            "s\n"
          ]
        }
      ]
    },
    {
      "cell_type": "code",
      "source": [],
      "metadata": {
        "id": "CZT_YL-gw-PH"
      },
      "execution_count": null,
      "outputs": []
    }
  ]
}