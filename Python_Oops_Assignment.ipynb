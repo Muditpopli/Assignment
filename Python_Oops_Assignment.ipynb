{
  "nbformat": 4,
  "nbformat_minor": 0,
  "metadata": {
    "colab": {
      "provenance": []
    },
    "kernelspec": {
      "name": "python3",
      "display_name": "Python 3"
    },
    "language_info": {
      "name": "python"
    }
  },
  "cells": [
    {
      "cell_type": "markdown",
      "source": [
        "Answer to Q. No.1:\n",
        "\n",
        "Five concepts of Object Oriented Programming\n",
        "\n",
        "Encapsulation, Abstraction, Inheritance, Polymorphism, and Class/Object."
      ],
      "metadata": {
        "id": "i95BHeha2Thd"
      }
    },
    {
      "cell_type": "markdown",
      "source": [
        "Answer to Q. No.2:"
      ],
      "metadata": {
        "id": "ZqrUgpBXJdIg"
      }
    },
    {
      "cell_type": "code",
      "source": [
        "class Car:\n",
        "    def __init__(self, make, model, year):\n",
        "        self.make = make\n",
        "        self.model = model\n",
        "        self.year = year\n",
        "\n",
        "    def display_info(self):\n",
        "        print(f\"{self.year} {self.make} {self.model}\")\n",
        "\n",
        "\n",
        "my_car = Car(\"Maruti\", \"Swift\", 2019)\n",
        "my_car.display_info()\n",
        "\n"
      ],
      "metadata": {
        "colab": {
          "base_uri": "https://localhost:8080/"
        },
        "id": "6Qu7XK2oJxSi",
        "outputId": "a58e3063-a995-4a19-f348-fc343aed2cf1"
      },
      "execution_count": 2,
      "outputs": [
        {
          "output_type": "stream",
          "name": "stdout",
          "text": [
            "2019 Maruti Swift\n"
          ]
        }
      ]
    },
    {
      "cell_type": "markdown",
      "source": [
        "Answer to Q.No. 3:\n",
        "\n",
        "Difference between Class method and object method:\n",
        "\n",
        "Instance Method:\n",
        "\n",
        "Works on individual instances, using self\n",
        "\n",
        "Class Method:\n",
        "\n",
        "Operates on class itself using class method.\n",
        "\n",
        "Example:\n",
        "\n"
      ],
      "metadata": {
        "id": "tI5qeowSKBwr"
      }
    },
    {
      "cell_type": "code",
      "source": [
        "class Example:\n",
        "    def instance_method(self):\n",
        "        print(\"This is an instance method\")\n",
        "\n",
        "    @classmethod\n",
        "    def class_method(cls):\n",
        "        print(\"This is a class method\")\n",
        "\n",
        "\n",
        "example = Example()\n",
        "example.instance_method()  # Calling instance method\n",
        "Example.class_method()      # Calling class method\n",
        "\n"
      ],
      "metadata": {
        "colab": {
          "base_uri": "https://localhost:8080/"
        },
        "id": "UBcbnAcMKnaJ",
        "outputId": "dadc61db-7486-4c12-db14-f01efa06634c"
      },
      "execution_count": 7,
      "outputs": [
        {
          "output_type": "stream",
          "name": "stdout",
          "text": [
            "This is an instance method\n",
            "This is a class method\n"
          ]
        }
      ]
    },
    {
      "cell_type": "markdown",
      "source": [
        "Answer to Q. No.4:\n",
        "\n",
        "In Python, we don't have traditional method overloading like in some other languages. Instead, we use default arguments, *args, or conditional logic to handle different ways of calling a function.\n",
        "\n",
        "Example:\n"
      ],
      "metadata": {
        "id": "6-FakyCaLZgb"
      }
    },
    {
      "cell_type": "code",
      "source": [
        "def greet(name=\"there\"):\n",
        "    print(f\"Hello, {name}!\")\n",
        "\n",
        "greet(\"Alice\")  # with argument\n",
        "greet()         # without argument\n"
      ],
      "metadata": {
        "colab": {
          "base_uri": "https://localhost:8080/"
        },
        "id": "DKp15sDNMJ1d",
        "outputId": "a9270819-7d51-4377-94f4-afdde9a8643c"
      },
      "execution_count": 8,
      "outputs": [
        {
          "output_type": "stream",
          "name": "stdout",
          "text": [
            "Hello, Alice!\n",
            "Hello, there!\n"
          ]
        }
      ]
    },
    {
      "cell_type": "markdown",
      "source": [
        "Answer to Q.No.5:\n",
        "\n",
        "there are three main types of access modifiers that control the visibility of variables and methods within a class:\n",
        "\n",
        "Public (variable): Can be accessed from anywhere.\n",
        "Protected (_variable): Meant to be used only within the class and its subclasses.\n",
        "Private (__variable): Intended to be used only within the class itself.\n",
        "\n",
        "Example:\n"
      ],
      "metadata": {
        "id": "0BErAVCqMYqq"
      }
    },
    {
      "cell_type": "code",
      "source": [
        "class Example:\n",
        "    def __init__(self):\n",
        "        self.public = \"Public\"        # Public variable\n",
        "        self._protected = \"Protected\" # Protected variable\n",
        "        self.__private = \"Private\"    # Private variable\n",
        "\n",
        "    def show(self):\n",
        "        print(\"Inside show method:\")\n",
        "        print(self.public)          # Accessing public variable\n",
        "        print(self._protected)      # Accessing protected variable\n",
        "        print(self.__private)       # Accessing private variable\n",
        "\n",
        "example = Example()\n",
        "print(\"Accessing variables directly:\")\n",
        "print(example.public)\n",
        "print(example._protected)\n",
        "\n",
        "\n",
        "print(\"\\nAccessing variables through the show method:\")\n",
        "example.show()\n",
        "\n"
      ],
      "metadata": {
        "colab": {
          "base_uri": "https://localhost:8080/"
        },
        "id": "Q1urVRFJMjbF",
        "outputId": "6e7df755-3c72-4324-ccdb-04072515af90"
      },
      "execution_count": 11,
      "outputs": [
        {
          "output_type": "stream",
          "name": "stdout",
          "text": [
            "Accessing variables directly:\n",
            "Public\n",
            "Protected\n",
            "\n",
            "Accessing variables through the show method:\n",
            "Inside show method:\n",
            "Public\n",
            "Protected\n",
            "Private\n"
          ]
        }
      ]
    },
    {
      "cell_type": "markdown",
      "source": [
        "Answer to Q.No.6:\n",
        "\n",
        "In Python, there are five types of inheritance:\n",
        "\n",
        "Single Inheritance: One class inherits from one parent class.\n",
        "Multiple Inheritance: One class inherits from multiple parent classes.\n",
        "Multilevel Inheritance: A class is derived from a class, which is also derived from another class.\n",
        "Hierarchical Inheritance: Multiple classes inherit from a single parent class.\n",
        "Hybrid Inheritance: Combination of more than one type of inheritance.\n",
        "Here's a simple example demonstrating Multiple Inheritance.\n",
        "Example:\n"
      ],
      "metadata": {
        "id": "wB6nuXdHNPCB"
      }
    },
    {
      "cell_type": "code",
      "source": [
        "class A:\n",
        "    def display(self):\n",
        "        print(\"Class A\")\n",
        "\n",
        "class B:\n",
        "    def show(self):\n",
        "        print(\"Class B\")\n",
        "\n",
        "class C(A, B):  # C inherits from both A and B\n",
        "    pass\n",
        "\n",
        "obj = C()\n",
        "obj.display()  # Calls method from Class A\n",
        "obj.show()     # Calls method from Class B\n"
      ],
      "metadata": {
        "colab": {
          "base_uri": "https://localhost:8080/"
        },
        "id": "LUmEf5W1NSsa",
        "outputId": "c4001604-5047-42ee-8789-6318288b7c1a"
      },
      "execution_count": 12,
      "outputs": [
        {
          "output_type": "stream",
          "name": "stdout",
          "text": [
            "Class A\n",
            "Class B\n"
          ]
        }
      ]
    },
    {
      "cell_type": "markdown",
      "source": [
        "Answer to Q.No.7:\n",
        "\n",
        "Method Resolution Order (MRO) is the order in which Python looks for a method in a hierarchy of classes. This is important in inheritance, especially with multiple inheritance, to know which method Python will call.\n",
        "\n",
        "Example:\n"
      ],
      "metadata": {
        "id": "L_8HKCqBNX0j"
      }
    },
    {
      "cell_type": "code",
      "source": [
        "class A:\n",
        "    def display(self):\n",
        "        print(\"Class A\")\n",
        "\n",
        "class B(A):\n",
        "    def display(self):\n",
        "        print(\"Class B\")\n",
        "\n",
        "class C(B):\n",
        "    pass\n",
        "\n",
        "# MRO of class C\n",
        "print(C.__mro__)\n"
      ],
      "metadata": {
        "colab": {
          "base_uri": "https://localhost:8080/"
        },
        "id": "ScRulWBCN6uO",
        "outputId": "f951de4b-965c-488e-f90f-d7b6d0b61ce4"
      },
      "execution_count": 13,
      "outputs": [
        {
          "output_type": "stream",
          "name": "stdout",
          "text": [
            "(<class '__main__.C'>, <class '__main__.B'>, <class '__main__.A'>, <class 'object'>)\n"
          ]
        }
      ]
    },
    {
      "cell_type": "markdown",
      "source": [
        "Answer To Q. No. 8:\n",
        "\n",
        "An abstract base class is a class that cannot be instantiated and is meant to be inherited by other classes. It often has abstract methods that subclasses must implement.\n",
        "\n",
        "Example:\n"
      ],
      "metadata": {
        "id": "SwBuScS9OABL"
      }
    },
    {
      "cell_type": "code",
      "source": [
        "from abc import ABC, abstractmethod\n",
        "\n",
        "class Shape(ABC):\n",
        "    @abstractmethod\n",
        "    def area(self):\n",
        "        pass\n",
        "\n",
        "class Circle(Shape):\n",
        "    def area(self):\n",
        "        return 3.14 * 5 * 5  # Example area calculation\n",
        "\n",
        "# Creating an object of Circle and calling area\n",
        "circle = Circle()\n",
        "print(\"Circle area:\", circle.area())\n"
      ],
      "metadata": {
        "colab": {
          "base_uri": "https://localhost:8080/"
        },
        "id": "6HpcbknyOs_J",
        "outputId": "57490a86-16a6-48d1-df21-fdc5a8f18b61"
      },
      "execution_count": 14,
      "outputs": [
        {
          "output_type": "stream",
          "name": "stdout",
          "text": [
            "Circle area: 78.5\n"
          ]
        }
      ]
    },
    {
      "cell_type": "markdown",
      "source": [
        "Answer to Q.No 9:\n",
        "\n",
        "It means the ability to use a function in different ways depending on the object.\n",
        "\n",
        "For example, we can use a single function to work with different types of shapes.\n",
        "\n",
        "Example:\n"
      ],
      "metadata": {
        "id": "w2vnjbcWPFkE"
      }
    },
    {
      "cell_type": "code",
      "source": [
        "class Circle:\n",
        "    def area(self):\n",
        "        return 3.14 * 5 * 5\n",
        "\n",
        "class Rectangle:\n",
        "    def area(self):\n",
        "        return 4 * 6\n",
        "\n",
        "def print_area(shape):\n",
        "    print(\"Area:\", shape.area())\n",
        "\n",
        "circle = Circle()\n",
        "rectangle = Rectangle()\n",
        "\n",
        "print_area(circle)      # Works with Circle\n",
        "print_area(rectangle)   # Works with Rectangle\n"
      ],
      "metadata": {
        "colab": {
          "base_uri": "https://localhost:8080/"
        },
        "id": "Ja7DysMtPLWT",
        "outputId": "2dc512b7-9b1c-45ea-a3c4-ff540da5f5cf"
      },
      "execution_count": 15,
      "outputs": [
        {
          "output_type": "stream",
          "name": "stdout",
          "text": [
            "Area: 78.5\n",
            "Area: 24\n"
          ]
        }
      ]
    },
    {
      "cell_type": "markdown",
      "source": [
        "Answer to Q.No. 10:\n",
        "\n",
        "Encapsulation means restricting access to certain attributes or methods. In Python, we use private variables (prefix with __) to hide data inside a class.\n",
        "\n",
        "Example:\n"
      ],
      "metadata": {
        "id": "-NweBBFtPPfy"
      }
    },
    {
      "cell_type": "code",
      "source": [
        "class BankAccount:\n",
        "    def __init__(self, balance):\n",
        "        self.__balance = balance  # Private variable\n",
        "\n",
        "    def deposit(self, amount):\n",
        "        self.__balance += amount\n",
        "\n",
        "    def get_balance(self):\n",
        "        return self.__balance\n",
        "\n",
        "account = BankAccount(1000)\n",
        "account.deposit(500)\n",
        "print(\"Balance:\", account.get_balance())\n"
      ],
      "metadata": {
        "colab": {
          "base_uri": "https://localhost:8080/"
        },
        "id": "gJ1E1yNYPeCi",
        "outputId": "51eb6ef8-a578-4132-abe2-569802ec2d6f"
      },
      "execution_count": 16,
      "outputs": [
        {
          "output_type": "stream",
          "name": "stdout",
          "text": [
            "Balance: 1500\n"
          ]
        }
      ]
    },
    {
      "cell_type": "markdown",
      "source": [
        "Answer to Q.No.11:\n",
        "\n",
        "Magic methods, like __str__ and __add__, allow us to define special behavior in Python classes.\n",
        "\n",
        "__str__: Used to define how the object is displayed when printed.\n",
        "__add__: Used to define how objects are added together.\n",
        "\n",
        "Example:\n"
      ],
      "metadata": {
        "id": "ThKQJvluPscs"
      }
    },
    {
      "cell_type": "code",
      "source": [
        "class Number:\n",
        "    def __init__(self, value):\n",
        "        self.value = value\n",
        "\n",
        "    def __str__(self):\n",
        "        return f\"Number: {self.value}\"\n",
        "\n",
        "    def __add__(self, other):\n",
        "        return Number(self.value + other.value)\n",
        "\n",
        "num1 = Number(5)\n",
        "num2 = Number(10)\n",
        "\n",
        "print(num1)\n",
        "result = num1 + num2\n",
        "print(result)\n"
      ],
      "metadata": {
        "colab": {
          "base_uri": "https://localhost:8080/"
        },
        "id": "Cd3OqkxYP7fi",
        "outputId": "eae415d9-c1ac-4b7e-817e-20b270b99c2e"
      },
      "execution_count": 17,
      "outputs": [
        {
          "output_type": "stream",
          "name": "stdout",
          "text": [
            "Number: 5\n",
            "Number: 15\n"
          ]
        }
      ]
    },
    {
      "cell_type": "markdown",
      "source": [
        "Answer to Q.No 12:\n",
        "\n",
        "A decorator is a function that modifies another function. Here, we create a decorator to measure and print the execution time of a function.\n",
        "\n",
        "Example:\n"
      ],
      "metadata": {
        "id": "AWrvzy1tQLv8"
      }
    },
    {
      "cell_type": "code",
      "source": [
        "import time\n",
        "\n",
        "def timer(func):\n",
        "    def wrapper(*args, **kwargs):\n",
        "        start = time.time()\n",
        "        result = func(*args, **kwargs)\n",
        "        end = time.time()\n",
        "        print(\"Execution time:\", end - start, \"seconds\")\n",
        "        return result\n",
        "    return wrapper\n",
        "\n",
        "@timer\n",
        "def example_function():\n",
        "    time.sleep(1)\n",
        "    print(\"Function completed\")\n",
        "\n",
        "example_function()\n"
      ],
      "metadata": {
        "colab": {
          "base_uri": "https://localhost:8080/"
        },
        "id": "MVKJdkdQQSB4",
        "outputId": "7fbbd98b-04de-4078-c9a8-d10a4c3af39e"
      },
      "execution_count": 18,
      "outputs": [
        {
          "output_type": "stream",
          "name": "stdout",
          "text": [
            "Function completed\n",
            "Execution time: 1.0012998580932617 seconds\n"
          ]
        }
      ]
    },
    {
      "cell_type": "markdown",
      "source": [
        "Answer to Q.No. 13:\n",
        "\n",
        "The Diamond Problem occurs in multiple inheritance when a class inherits from two classes that have a common parent. This can cause confusion about which method to inherit.\n",
        "\n",
        "Example:\n",
        "\n"
      ],
      "metadata": {
        "id": "tNUBU7HBQYrk"
      }
    },
    {
      "cell_type": "code",
      "source": [
        "class A:\n",
        "    def greet(self):\n",
        "        print(\"Hello from A\")\n",
        "\n",
        "class B(A):\n",
        "    pass\n",
        "\n",
        "class C(A):\n",
        "    def greet(self):\n",
        "        print(\"Hello from C\")\n",
        "\n",
        "class D(B, C):\n",
        "    pass\n",
        "\n",
        "d = D()\n",
        "d.greet()  # Follows MRO to decide which greet() to call\n"
      ],
      "metadata": {
        "colab": {
          "base_uri": "https://localhost:8080/"
        },
        "id": "1hxa7r1AQr3W",
        "outputId": "77ce551a-9b24-43cd-da6d-58c796017d89"
      },
      "execution_count": 19,
      "outputs": [
        {
          "output_type": "stream",
          "name": "stdout",
          "text": [
            "Hello from C\n"
          ]
        }
      ]
    },
    {
      "cell_type": "markdown",
      "source": [
        "Answer for Q.No. 14:\n",
        "\n",
        "A class method can be used to keep track of the number of instances created from a class. We use @classmethod to define it.\n",
        "\n",
        "Example:\n",
        "\n"
      ],
      "metadata": {
        "id": "F8xkhZk_Qt-R"
      }
    },
    {
      "cell_type": "code",
      "source": [
        "class Example:\n",
        "    count = 0\n",
        "\n",
        "    def __init__(self):\n",
        "        Example.count += 1\n",
        "\n",
        "    @classmethod\n",
        "    def get_instance_count(cls):\n",
        "        return cls.count\n",
        "\n",
        "a = Example()\n",
        "b = Example()\n",
        "print(\"Instances created:\", Example.get_instance_count())\n"
      ],
      "metadata": {
        "colab": {
          "base_uri": "https://localhost:8080/"
        },
        "id": "EU8MawpSQ9cH",
        "outputId": "1b74daa0-cf5f-4d0a-8910-fc21e6eb63be"
      },
      "execution_count": 20,
      "outputs": [
        {
          "output_type": "stream",
          "name": "stdout",
          "text": [
            "Instances created: 2\n"
          ]
        }
      ]
    },
    {
      "cell_type": "markdown",
      "source": [
        "Answer to Q.No 15:\n",
        "\n",
        "A static method doesnt depend on instance or class variables. We use @staticmethod to define it.\n",
        "\n",
        "Example:\n",
        "\n"
      ],
      "metadata": {
        "id": "FQcfNy-fQ_UT"
      }
    },
    {
      "cell_type": "code",
      "source": [
        "class Year:\n",
        "    @staticmethod\n",
        "    def is_leap(year):\n",
        "        return year % 4 == 0 and (year % 100 != 0 or year % 400 == 0)\n",
        "\n",
        "print(\"2020 is leap year:\", Year.is_leap(2020))\n",
        "print(\"2021 is leap year:\", Year.is_leap(2021))\n"
      ],
      "metadata": {
        "colab": {
          "base_uri": "https://localhost:8080/"
        },
        "id": "qxkI54b4RSJ-",
        "outputId": "2766a65d-eafc-4b5e-f0a0-e6a335daf598"
      },
      "execution_count": 21,
      "outputs": [
        {
          "output_type": "stream",
          "name": "stdout",
          "text": [
            "2020 is leap year: True\n",
            "2021 is leap year: False\n"
          ]
        }
      ]
    }
  ]
}