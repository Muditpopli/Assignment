{
  "nbformat": 4,
  "nbformat_minor": 0,
  "metadata": {
    "colab": {
      "provenance": []
    },
    "kernelspec": {
      "name": "python3",
      "display_name": "Python 3"
    },
    "language_info": {
      "name": "python"
    }
  },
  "cells": [
    {
      "cell_type": "markdown",
      "source": [
        "Answer to Q.No 1:\n",
        "\n",
        "Multithreading vs Multiprocessing:\n",
        "\n",
        "Multithreading:\n",
        "\n",
        "1. Better for I/O-bound tasks like reading/writing files or network operations.\n",
        "2. Example: A web crawler fetching multiple web pages concurrently.\n",
        "\n",
        "Multitasking:\n",
        "\n",
        "1. Better for CPU-bound tasks like image processing or numerical simulations.\n",
        "2. Example: Computing a large matrix multiplication concurrently."
      ],
      "metadata": {
        "id": "jGHt7Eufiiae"
      }
    },
    {
      "cell_type": "markdown",
      "source": [
        "Answer to Q.No.2:\n",
        "\n",
        "Process Pool:\n",
        "\n",
        "1. A process pool is a collection of worker processes that can execute tasks in parallel.\n",
        "2. It efficiently manages process creation overhead by reusing existing processes.\n",
        "3. Example: multiprocessing.Pool in Python handles multiple tasks across a limited number of worker processes."
      ],
      "metadata": {
        "id": "FE9n3XVfkKoS"
      }
    },
    {
      "cell_type": "markdown",
      "source": [
        "Answer to Q.No 3:\n",
        "\n",
        "Multiprocessing in Python:\n",
        "\n",
        "Definition: It enables parallel execution of code by creating multiple processes, each with its own memory space.\n",
        "\n",
        "Usage: For CPU-intensive tasks to utilize multiple CPU cores.\n",
        "\n",
        "Example: Computing prime numbers in parallel.\n"
      ],
      "metadata": {
        "id": "P6DwhDuqkdig"
      }
    },
    {
      "cell_type": "markdown",
      "source": [
        "Answer to Q.No 4:\n"
      ],
      "metadata": {
        "id": "y8gKW36ekqjS"
      }
    },
    {
      "cell_type": "code",
      "source": [
        "import threading\n",
        "import time\n",
        "\n",
        "data = []\n",
        "lock = threading.Lock()\n",
        "\n",
        "def add_numbers():\n",
        "    for i in range(5):\n",
        "        with lock:\n",
        "            data.append(i)\n",
        "            print(f\"Added: {i}\")\n",
        "        time.sleep(0.5)\n",
        "\n",
        "def remove_numbers():\n",
        "    for _ in range(5):\n",
        "        with lock:\n",
        "            if data:\n",
        "                removed = data.pop(0)\n",
        "                print(f\"Removed: {removed}\")\n",
        "        time.sleep(0.7)\n",
        "\n",
        "thread1 = threading.Thread(target=add_numbers)\n",
        "thread2 = threading.Thread(target=remove_numbers)\n",
        "\n",
        "thread1.start()\n",
        "thread2.start()\n",
        "\n",
        "thread1.join()\n",
        "thread2.join()\n",
        "\n",
        "print(\"Final data:\", data)\n"
      ],
      "metadata": {
        "colab": {
          "base_uri": "https://localhost:8080/"
        },
        "id": "Xa8K9XOokvok",
        "outputId": "0d640c8a-fc97-4cd2-8324-ad06b8931972"
      },
      "execution_count": 1,
      "outputs": [
        {
          "output_type": "stream",
          "name": "stdout",
          "text": [
            "Added: 0\n",
            "Removed: 0\n",
            "Added: 1\n",
            "Removed: 1\n",
            "Added: 2\n",
            "Removed: 2\n",
            "Added: 3\n",
            "Added: 4\n",
            "Removed: 3\n",
            "Removed: 4\n",
            "Final data: []\n"
          ]
        }
      ]
    },
    {
      "cell_type": "markdown",
      "source": [
        "Answer to Q.No 5:\n",
        "\n",
        "Tools for safely sharing data:\n",
        "\n",
        "1. Threads: Use threading.Lock or queue.Queue for thread-safe operations.\n",
        "2. Processes: Use multiprocessing.Queue, Value, or Array to share data between processes."
      ],
      "metadata": {
        "id": "IYIXR-s9kwes"
      }
    },
    {
      "cell_type": "markdown",
      "source": [
        "Answer to Q.No 6:\n",
        "\n",
        "Exception Handling In Concurrent Programs:\n",
        "\n",
        "1. Crucial because unhandled exceptions can terminate threads or processes unexpectedly.\n",
        "\n",
        "2. Techniques:\n",
        "\n",
        "a. Use try-except blocks within threads/processes.\n",
        "b. Use concurrent.futures to retrieve results and exceptions safely.\n",
        "c. Example: Logging exceptions in a thread-safe way"
      ],
      "metadata": {
        "id": "QSG_oKE-lGQy"
      }
    },
    {
      "cell_type": "markdown",
      "source": [
        "Answer to Q.No 7:"
      ],
      "metadata": {
        "id": "aZnZe_SxlgkL"
      }
    },
    {
      "cell_type": "code",
      "source": [
        "from concurrent.futures import ThreadPoolExecutor\n",
        "import math\n",
        "\n",
        "def factorial(n):\n",
        "    return math.factorial(n)\n",
        "\n",
        "with ThreadPoolExecutor(max_workers=3) as executor:\n",
        "    numbers = range(1, 11)\n",
        "    results = list(executor.map(factorial, numbers))\n",
        "\n",
        "print(\"Factorials:\", results)\n"
      ],
      "metadata": {
        "colab": {
          "base_uri": "https://localhost:8080/"
        },
        "id": "ZlnkXqLalinz",
        "outputId": "ddcb85de-320d-4afc-e3de-e442628e40ae"
      },
      "execution_count": 2,
      "outputs": [
        {
          "output_type": "stream",
          "name": "stdout",
          "text": [
            "Factorials: [1, 2, 6, 24, 120, 720, 5040, 40320, 362880, 3628800]\n"
          ]
        }
      ]
    },
    {
      "cell_type": "markdown",
      "source": [
        "Answer to Q.no 8:"
      ],
      "metadata": {
        "id": "GwuEjUJylmPQ"
      }
    },
    {
      "cell_type": "code",
      "source": [
        "from multiprocessing import Pool\n",
        "import time\n",
        "\n",
        "def square(n):\n",
        "    return n * n\n",
        "\n",
        "if __name__ == \"__main__\":\n",
        "    numbers = range(1, 11)\n",
        "\n",
        "    for pool_size in [2, 4, 8]:\n",
        "        start_time = time.time()\n",
        "        with Pool(pool_size) as pool:\n",
        "            results = pool.map(square, numbers)\n",
        "        end_time = time.time()\n",
        "        print(f\"Results with pool size {pool_size}: {results}\")\n",
        "        print(f\"Time taken: {end_time - start_time:.4f} seconds\")\n"
      ],
      "metadata": {
        "colab": {
          "base_uri": "https://localhost:8080/"
        },
        "id": "JSifEWwHloZN",
        "outputId": "dd643b56-dae1-4855-fb11-194490adede9"
      },
      "execution_count": 3,
      "outputs": [
        {
          "output_type": "stream",
          "name": "stdout",
          "text": [
            "Results with pool size 2: [1, 4, 9, 16, 25, 36, 49, 64, 81, 100]\n",
            "Time taken: 0.0703 seconds\n",
            "Results with pool size 4: [1, 4, 9, 16, 25, 36, 49, 64, 81, 100]\n",
            "Time taken: 0.0680 seconds\n",
            "Results with pool size 8: [1, 4, 9, 16, 25, 36, 49, 64, 81, 100]\n",
            "Time taken: 0.1378 seconds\n"
          ]
        }
      ]
    }
  ]
}